{
 "cells": [
  {
   "cell_type": "code",
   "execution_count": 164,
   "metadata": {},
   "outputs": [],
   "source": [
    "import pandas as pd\n",
    "import numpy as np\n",
    "import matplotlib.pyplot as plt\n",
    "from sklearn.linear_model import LinearRegression, Ridge\n",
    "from sklearn.neural_network import MLPRegressor\n",
    "from sklearn.ensemble import StackingRegressor\n",
    "from sklearn.model_selection import train_test_split\n",
    "from sklearn.metrics import mean_squared_error, mean_absolute_error, r2_score\n",
    "import math\n",
    "from sklearn.model_selection import cross_val_score, KFold\n",
    "import plotly.express as px\n",
    "from sklearn.preprocessing import MinMaxScaler\n"
   ]
  },
  {
   "cell_type": "code",
   "execution_count": 165,
   "metadata": {},
   "outputs": [],
   "source": [
    "# 1. Đọc dữ liệu từ file CSV\n",
    "df = pd.read_csv('Gold_Price.csv')"
   ]
  },
  {
   "cell_type": "code",
   "execution_count": 166,
   "metadata": {},
   "outputs": [
    {
     "name": "stdout",
     "output_type": "stream",
     "text": [
      "Date       object\n",
      "Price       int64\n",
      "Open        int64\n",
      "High        int64\n",
      "Low         int64\n",
      "Volume      int64\n",
      "Chg%      float64\n",
      "dtype: object\n"
     ]
    }
   ],
   "source": [
    "print(df.dtypes)\n"
   ]
  },
  {
   "cell_type": "code",
   "execution_count": 167,
   "metadata": {},
   "outputs": [],
   "source": [
    "\n",
    "\n",
    "# # Bước 1: Chuyển đổi cột 'Date' thành datetime\n",
    "# df['Date'] = pd.to_datetime(df['Date'], errors='coerce')\n",
    "\n",
    "# # Bước 2: Loại bỏ dấu phẩy và chuyển đổi các cột về kiểu float\n",
    "# for col in ['Price', 'Open', 'High', 'Low']:\n",
    "#     df[col] = df[col].replace({',': ''}, regex=True).astype(float)\n",
    "\n",
    "# # Bước 3: Xử lý cột 'Vol.' để chuyển đổi giá trị có ký hiệu 'K' thành số thực\n",
    "# df['Vol.'] = df['Vol.'].replace({',': ''}, regex=True)\n",
    "# df['Vol.'] = df['Vol.'].apply(lambda x: float(x.replace('K', '')) * 1000 if 'K' in str(x) else float(x))\n",
    "\n",
    "# # Bước 4: Loại bỏ dấu phần trăm trong cột 'Change %' và chuyển đổi về kiểu float\n",
    "# df['Change %'] = df['Change %'].str.replace('%', '').astype(float)\n",
    "\n",
    "# # Kiểm tra lại kết quả\n",
    "# print(df.dtypes)\n",
    "# print(df.head())\n"
   ]
  },
  {
   "cell_type": "code",
   "execution_count": 168,
   "metadata": {},
   "outputs": [],
   "source": [
    "# # Xóa dấu phân cách hàng nghìn và chuyển đổi sang kiểu float trước khi đổi sang int64\n",
    "# for col in df.select_dtypes(include=['object']).columns:\n",
    "#     # Loại bỏ dấu phẩy nếu có trong dữ liệu và chuyển sang float\n",
    "#     df[col] = df[col].str.replace(',','').astype(float)\n",
    "\n",
    "# # Sau khi tất cả các cột đã được chuyển về dạng float, chuyển sang int64 nếu cần\n",
    "# for col in df.columns:\n",
    "#     if df[col].dtype == 'float64':\n",
    "#         df[col] = df[col].astype('int64')\n",
    "\n",
    "# # Kiểm tra lại kiểu dữ liệu và hiển thị dữ liệu đầu ra\n",
    "# print(df.dtypes)\n",
    "# print(df.head())\n"
   ]
  },
  {
   "cell_type": "code",
   "execution_count": 169,
   "metadata": {},
   "outputs": [],
   "source": [
    "# # Đầu tiên chuyển các cột dữ liệu về dạng số nếu có giá trị chuỗi\n",
    "# df = df.apply(pd.to_numeric, errors='coerce')\n",
    "\n",
    "# # Đổi các cột dạng float64 thành int64\n",
    "# for col in df.select_dtypes(include=['float64', 'int32']).columns:\n",
    "#     df[col] = df[col].fillna(0).astype('int64')  # Điền giá trị thiếu (nếu có) và đổi kiểu\n",
    "\n",
    "# # Kiểm tra lại kiểu dữ liệu\n",
    "# print(df.dtypes)\n"
   ]
  },
  {
   "cell_type": "code",
   "execution_count": 170,
   "metadata": {},
   "outputs": [
    {
     "name": "stdout",
     "output_type": "stream",
     "text": [
      "<class 'pandas.core.frame.DataFrame'>\n",
      "RangeIndex: 2227 entries, 0 to 2226\n",
      "Data columns (total 7 columns):\n",
      " #   Column  Non-Null Count  Dtype  \n",
      "---  ------  --------------  -----  \n",
      " 0   Date    2227 non-null   object \n",
      " 1   Price   2227 non-null   int64  \n",
      " 2   Open    2227 non-null   int64  \n",
      " 3   High    2227 non-null   int64  \n",
      " 4   Low     2227 non-null   int64  \n",
      " 5   Volume  2227 non-null   int64  \n",
      " 6   Chg%    2227 non-null   float64\n",
      "dtypes: float64(1), int64(5), object(1)\n",
      "memory usage: 121.9+ KB\n",
      "None\n"
     ]
    }
   ],
   "source": [
    "# Hiển thị thông tin tổng quan về dữ liệu\n",
    "print(df.info())"
   ]
  },
  {
   "cell_type": "code",
   "execution_count": 171,
   "metadata": {},
   "outputs": [
    {
     "data": {
      "text/plain": [
       "Index(['Date', 'Price', 'Open', 'High', 'Low', 'Volume', 'Chg%'], dtype='object')"
      ]
     },
     "execution_count": 171,
     "metadata": {},
     "output_type": "execute_result"
    }
   ],
   "source": [
    "df.columns"
   ]
  },
  {
   "cell_type": "code",
   "execution_count": 172,
   "metadata": {},
   "outputs": [],
   "source": [
    "def compare_predictions(y_test, y_pred, model_name):\n",
    "    comparison = pd.DataFrame({'Actual': y_test, 'Predicted': y_pred})\n",
    "    print(f\"\\nComparison for {model_name} model:\")\n",
    "    print(comparison.head())  # Hiển thị 5 giá trị đầu tiên"
   ]
  },
  {
   "cell_type": "code",
   "execution_count": 173,
   "metadata": {},
   "outputs": [
    {
     "data": {
      "text/html": [
       "<div>\n",
       "<style scoped>\n",
       "    .dataframe tbody tr th:only-of-type {\n",
       "        vertical-align: middle;\n",
       "    }\n",
       "\n",
       "    .dataframe tbody tr th {\n",
       "        vertical-align: top;\n",
       "    }\n",
       "\n",
       "    .dataframe thead th {\n",
       "        text-align: right;\n",
       "    }\n",
       "</style>\n",
       "<table border=\"1\" class=\"dataframe\">\n",
       "  <thead>\n",
       "    <tr style=\"text-align: right;\">\n",
       "      <th></th>\n",
       "      <th>Date</th>\n",
       "      <th>Price</th>\n",
       "      <th>Open</th>\n",
       "      <th>High</th>\n",
       "      <th>Low</th>\n",
       "      <th>Volume</th>\n",
       "      <th>Chg%</th>\n",
       "    </tr>\n",
       "  </thead>\n",
       "  <tbody>\n",
       "    <tr>\n",
       "      <th>0</th>\n",
       "      <td>1/1/2014</td>\n",
       "      <td>29542</td>\n",
       "      <td>29435</td>\n",
       "      <td>29598</td>\n",
       "      <td>29340</td>\n",
       "      <td>2930</td>\n",
       "      <td>0.25</td>\n",
       "    </tr>\n",
       "    <tr>\n",
       "      <th>1</th>\n",
       "      <td>1/2/2014</td>\n",
       "      <td>29975</td>\n",
       "      <td>29678</td>\n",
       "      <td>30050</td>\n",
       "      <td>29678</td>\n",
       "      <td>3140</td>\n",
       "      <td>1.47</td>\n",
       "    </tr>\n",
       "    <tr>\n",
       "      <th>2</th>\n",
       "      <td>1/3/2014</td>\n",
       "      <td>29727</td>\n",
       "      <td>30031</td>\n",
       "      <td>30125</td>\n",
       "      <td>29539</td>\n",
       "      <td>3050</td>\n",
       "      <td>-0.83</td>\n",
       "    </tr>\n",
       "    <tr>\n",
       "      <th>3</th>\n",
       "      <td>1/4/2014</td>\n",
       "      <td>29279</td>\n",
       "      <td>29279</td>\n",
       "      <td>29279</td>\n",
       "      <td>29279</td>\n",
       "      <td>0</td>\n",
       "      <td>-1.51</td>\n",
       "    </tr>\n",
       "    <tr>\n",
       "      <th>4</th>\n",
       "      <td>1/6/2014</td>\n",
       "      <td>29119</td>\n",
       "      <td>29300</td>\n",
       "      <td>29395</td>\n",
       "      <td>29051</td>\n",
       "      <td>24380</td>\n",
       "      <td>-0.55</td>\n",
       "    </tr>\n",
       "  </tbody>\n",
       "</table>\n",
       "</div>"
      ],
      "text/plain": [
       "       Date  Price   Open   High    Low  Volume  Chg%\n",
       "0  1/1/2014  29542  29435  29598  29340    2930  0.25\n",
       "1  1/2/2014  29975  29678  30050  29678    3140  1.47\n",
       "2  1/3/2014  29727  30031  30125  29539    3050 -0.83\n",
       "3  1/4/2014  29279  29279  29279  29279       0 -1.51\n",
       "4  1/6/2014  29119  29300  29395  29051   24380 -0.55"
      ]
     },
     "execution_count": 173,
     "metadata": {},
     "output_type": "execute_result"
    }
   ],
   "source": [
    "df.head()"
   ]
  },
  {
   "cell_type": "markdown",
   "metadata": {},
   "source": [
    "# TIỀN XỬ LÍ DỮ LIỆU"
   ]
  },
  {
   "cell_type": "code",
   "execution_count": 174,
   "metadata": {},
   "outputs": [],
   "source": [
    "# #Vì chúng tôi sẽ không sử dụng Vol. và Thay đổi tính năng % để dự đoán Giá, chúng tôi sẽ bỏ hai tính năng này\n",
    "# df.drop(['Vol.', 'Change %'], axis=1, inplace=True)"
   ]
  },
  {
   "cell_type": "code",
   "execution_count": 175,
   "metadata": {},
   "outputs": [],
   "source": [
    "\n",
    "# Chuyển đổi cột \"date\" sang kiểu datetime\n",
    "df['Date'] = pd.to_datetime(df['Date'], errors='coerce')  \n",
    "\n",
    "# Tách các đặc trưng số từ cột \"date\"\n",
    "df['year'] = df['Date'].dt.year\n",
    "df['month'] = df['Date'].dt.month\n",
    "df['day'] = df['Date'].dt.day\n",
    "df['day_of_week'] = df['Date'].dt.dayofweek\n",
    "df['day_of_year'] = df['Date'].dt.dayofyear\n",
    "\n",
    "# Xóa cột \"date\" gốc vì không cần thiết cho mô hình\n",
    "df = df.drop(columns=['Date'])\n",
    "\n",
    "# Đảm bảo không có giá trị null (do lỗi chuyển đổi date) và mọi cột đều là số\n",
    "df = df.dropna()\n",
    "\n",
    "\n"
   ]
  },
  {
   "cell_type": "code",
   "execution_count": 176,
   "metadata": {},
   "outputs": [],
   "source": [
    "# Xử lý dữ liệu cho mô hình\n",
    "X = df.drop(columns=['Price'])  # 'target_column' là cột đích bạn muốn dự đoán\n",
    "y = df['Price']"
   ]
  },
  {
   "cell_type": "code",
   "execution_count": 177,
   "metadata": {},
   "outputs": [
    {
     "data": {
      "text/html": [
       "<div>\n",
       "<style scoped>\n",
       "    .dataframe tbody tr th:only-of-type {\n",
       "        vertical-align: middle;\n",
       "    }\n",
       "\n",
       "    .dataframe tbody tr th {\n",
       "        vertical-align: top;\n",
       "    }\n",
       "\n",
       "    .dataframe thead th {\n",
       "        text-align: right;\n",
       "    }\n",
       "</style>\n",
       "<table border=\"1\" class=\"dataframe\">\n",
       "  <thead>\n",
       "    <tr style=\"text-align: right;\">\n",
       "      <th></th>\n",
       "      <th>Open</th>\n",
       "      <th>High</th>\n",
       "      <th>Low</th>\n",
       "      <th>Volume</th>\n",
       "      <th>Chg%</th>\n",
       "      <th>year</th>\n",
       "      <th>month</th>\n",
       "      <th>day</th>\n",
       "      <th>day_of_week</th>\n",
       "      <th>day_of_year</th>\n",
       "    </tr>\n",
       "  </thead>\n",
       "  <tbody>\n",
       "    <tr>\n",
       "      <th>0</th>\n",
       "      <td>29435</td>\n",
       "      <td>29598</td>\n",
       "      <td>29340</td>\n",
       "      <td>2930</td>\n",
       "      <td>0.25</td>\n",
       "      <td>2014</td>\n",
       "      <td>1</td>\n",
       "      <td>1</td>\n",
       "      <td>2</td>\n",
       "      <td>1</td>\n",
       "    </tr>\n",
       "    <tr>\n",
       "      <th>1</th>\n",
       "      <td>29678</td>\n",
       "      <td>30050</td>\n",
       "      <td>29678</td>\n",
       "      <td>3140</td>\n",
       "      <td>1.47</td>\n",
       "      <td>2014</td>\n",
       "      <td>1</td>\n",
       "      <td>2</td>\n",
       "      <td>3</td>\n",
       "      <td>2</td>\n",
       "    </tr>\n",
       "    <tr>\n",
       "      <th>2</th>\n",
       "      <td>30031</td>\n",
       "      <td>30125</td>\n",
       "      <td>29539</td>\n",
       "      <td>3050</td>\n",
       "      <td>-0.83</td>\n",
       "      <td>2014</td>\n",
       "      <td>1</td>\n",
       "      <td>3</td>\n",
       "      <td>4</td>\n",
       "      <td>3</td>\n",
       "    </tr>\n",
       "    <tr>\n",
       "      <th>3</th>\n",
       "      <td>29279</td>\n",
       "      <td>29279</td>\n",
       "      <td>29279</td>\n",
       "      <td>0</td>\n",
       "      <td>-1.51</td>\n",
       "      <td>2014</td>\n",
       "      <td>1</td>\n",
       "      <td>4</td>\n",
       "      <td>5</td>\n",
       "      <td>4</td>\n",
       "    </tr>\n",
       "    <tr>\n",
       "      <th>4</th>\n",
       "      <td>29300</td>\n",
       "      <td>29395</td>\n",
       "      <td>29051</td>\n",
       "      <td>24380</td>\n",
       "      <td>-0.55</td>\n",
       "      <td>2014</td>\n",
       "      <td>1</td>\n",
       "      <td>6</td>\n",
       "      <td>0</td>\n",
       "      <td>6</td>\n",
       "    </tr>\n",
       "  </tbody>\n",
       "</table>\n",
       "</div>"
      ],
      "text/plain": [
       "    Open   High    Low  Volume  Chg%  year  month  day  day_of_week  \\\n",
       "0  29435  29598  29340    2930  0.25  2014      1    1            2   \n",
       "1  29678  30050  29678    3140  1.47  2014      1    2            3   \n",
       "2  30031  30125  29539    3050 -0.83  2014      1    3            4   \n",
       "3  29279  29279  29279       0 -1.51  2014      1    4            5   \n",
       "4  29300  29395  29051   24380 -0.55  2014      1    6            0   \n",
       "\n",
       "   day_of_year  \n",
       "0            1  \n",
       "1            2  \n",
       "2            3  \n",
       "3            4  \n",
       "4            6  "
      ]
     },
     "execution_count": 177,
     "metadata": {},
     "output_type": "execute_result"
    }
   ],
   "source": [
    "X.head()\n"
   ]
  },
  {
   "cell_type": "code",
   "execution_count": 178,
   "metadata": {},
   "outputs": [
    {
     "data": {
      "text/plain": [
       "0    29542\n",
       "1    29975\n",
       "2    29727\n",
       "3    29279\n",
       "4    29119\n",
       "Name: Price, dtype: int64"
      ]
     },
     "execution_count": 178,
     "metadata": {},
     "output_type": "execute_result"
    }
   ],
   "source": [
    "y.head()"
   ]
  },
  {
   "cell_type": "code",
   "execution_count": 179,
   "metadata": {},
   "outputs": [],
   "source": [
    "# # Giả sử bạn có một cột chứa các giá trị dạng chuỗi\n",
    "# df['Price'] = df['Price'].str.replace(',', '')  # Loại bỏ dấu phẩy\n",
    "# df['Price'] = df['Price'].astype(float)  # Chuyển đổi thành float\n",
    "\n"
   ]
  },
  {
   "cell_type": "code",
   "execution_count": 180,
   "metadata": {},
   "outputs": [],
   "source": [
    "# # Giả sử bạn có một cột chứa các giá trị dạng chuỗi\n",
    "# df['High'] = df['High'].str.replace(',', '')  # Loại bỏ dấu phẩy\n",
    "# df['High'] = df['High'].astype(float)  # Chuyển đổi thành float"
   ]
  },
  {
   "cell_type": "code",
   "execution_count": 181,
   "metadata": {},
   "outputs": [
    {
     "data": {
      "text/html": [
       "<div>\n",
       "<style scoped>\n",
       "    .dataframe tbody tr th:only-of-type {\n",
       "        vertical-align: middle;\n",
       "    }\n",
       "\n",
       "    .dataframe tbody tr th {\n",
       "        vertical-align: top;\n",
       "    }\n",
       "\n",
       "    .dataframe thead th {\n",
       "        text-align: right;\n",
       "    }\n",
       "</style>\n",
       "<table border=\"1\" class=\"dataframe\">\n",
       "  <thead>\n",
       "    <tr style=\"text-align: right;\">\n",
       "      <th></th>\n",
       "      <th>Open</th>\n",
       "      <th>High</th>\n",
       "      <th>Low</th>\n",
       "      <th>Volume</th>\n",
       "      <th>Chg%</th>\n",
       "      <th>year</th>\n",
       "      <th>month</th>\n",
       "      <th>day</th>\n",
       "      <th>day_of_week</th>\n",
       "      <th>day_of_year</th>\n",
       "    </tr>\n",
       "  </thead>\n",
       "  <tbody>\n",
       "    <tr>\n",
       "      <th>0</th>\n",
       "      <td>29435</td>\n",
       "      <td>29598</td>\n",
       "      <td>29340</td>\n",
       "      <td>2930</td>\n",
       "      <td>0.25</td>\n",
       "      <td>2014</td>\n",
       "      <td>1</td>\n",
       "      <td>1</td>\n",
       "      <td>2</td>\n",
       "      <td>1</td>\n",
       "    </tr>\n",
       "    <tr>\n",
       "      <th>1</th>\n",
       "      <td>29678</td>\n",
       "      <td>30050</td>\n",
       "      <td>29678</td>\n",
       "      <td>3140</td>\n",
       "      <td>1.47</td>\n",
       "      <td>2014</td>\n",
       "      <td>1</td>\n",
       "      <td>2</td>\n",
       "      <td>3</td>\n",
       "      <td>2</td>\n",
       "    </tr>\n",
       "    <tr>\n",
       "      <th>2</th>\n",
       "      <td>30031</td>\n",
       "      <td>30125</td>\n",
       "      <td>29539</td>\n",
       "      <td>3050</td>\n",
       "      <td>-0.83</td>\n",
       "      <td>2014</td>\n",
       "      <td>1</td>\n",
       "      <td>3</td>\n",
       "      <td>4</td>\n",
       "      <td>3</td>\n",
       "    </tr>\n",
       "    <tr>\n",
       "      <th>3</th>\n",
       "      <td>29279</td>\n",
       "      <td>29279</td>\n",
       "      <td>29279</td>\n",
       "      <td>0</td>\n",
       "      <td>-1.51</td>\n",
       "      <td>2014</td>\n",
       "      <td>1</td>\n",
       "      <td>4</td>\n",
       "      <td>5</td>\n",
       "      <td>4</td>\n",
       "    </tr>\n",
       "    <tr>\n",
       "      <th>4</th>\n",
       "      <td>29300</td>\n",
       "      <td>29395</td>\n",
       "      <td>29051</td>\n",
       "      <td>24380</td>\n",
       "      <td>-0.55</td>\n",
       "      <td>2014</td>\n",
       "      <td>1</td>\n",
       "      <td>6</td>\n",
       "      <td>0</td>\n",
       "      <td>6</td>\n",
       "    </tr>\n",
       "  </tbody>\n",
       "</table>\n",
       "</div>"
      ],
      "text/plain": [
       "    Open   High    Low  Volume  Chg%  year  month  day  day_of_week  \\\n",
       "0  29435  29598  29340    2930  0.25  2014      1    1            2   \n",
       "1  29678  30050  29678    3140  1.47  2014      1    2            3   \n",
       "2  30031  30125  29539    3050 -0.83  2014      1    3            4   \n",
       "3  29279  29279  29279       0 -1.51  2014      1    4            5   \n",
       "4  29300  29395  29051   24380 -0.55  2014      1    6            0   \n",
       "\n",
       "   day_of_year  \n",
       "0            1  \n",
       "1            2  \n",
       "2            3  \n",
       "3            4  \n",
       "4            6  "
      ]
     },
     "execution_count": 181,
     "metadata": {},
     "output_type": "execute_result"
    }
   ],
   "source": [
    "X.head()\n"
   ]
  },
  {
   "cell_type": "code",
   "execution_count": 182,
   "metadata": {},
   "outputs": [],
   "source": [
    "# # Giả sử bạn có một cột chứa các giá trị dạng chuỗi\n",
    "# df['Low'] = df['Low'].str.replace(',', '')  # Loại bỏ dấu phẩy\n",
    "# df['Low'] = df['Low'].astype(float)  # Chuyển đổi thành float"
   ]
  },
  {
   "cell_type": "code",
   "execution_count": 183,
   "metadata": {},
   "outputs": [
    {
     "name": "stdout",
     "output_type": "stream",
     "text": [
      "153\n"
     ]
    }
   ],
   "source": [
    "# Lấy kích thước của DataFrame cho năm 2022\n",
    "test_size = df[df['year'] == 2022].shape[0]\n",
    "print(test_size)\n"
   ]
  },
  {
   "cell_type": "code",
   "execution_count": 184,
   "metadata": {},
   "outputs": [],
   "source": [
    "window_size = 60\n"
   ]
  },
  {
   "cell_type": "code",
   "execution_count": 185,
   "metadata": {},
   "outputs": [
    {
     "data": {
      "text/html": [
       "<style>#sk-container-id-6 {\n",
       "  /* Definition of color scheme common for light and dark mode */\n",
       "  --sklearn-color-text: black;\n",
       "  --sklearn-color-line: gray;\n",
       "  /* Definition of color scheme for unfitted estimators */\n",
       "  --sklearn-color-unfitted-level-0: #fff5e6;\n",
       "  --sklearn-color-unfitted-level-1: #f6e4d2;\n",
       "  --sklearn-color-unfitted-level-2: #ffe0b3;\n",
       "  --sklearn-color-unfitted-level-3: chocolate;\n",
       "  /* Definition of color scheme for fitted estimators */\n",
       "  --sklearn-color-fitted-level-0: #f0f8ff;\n",
       "  --sklearn-color-fitted-level-1: #d4ebff;\n",
       "  --sklearn-color-fitted-level-2: #b3dbfd;\n",
       "  --sklearn-color-fitted-level-3: cornflowerblue;\n",
       "\n",
       "  /* Specific color for light theme */\n",
       "  --sklearn-color-text-on-default-background: var(--sg-text-color, var(--theme-code-foreground, var(--jp-content-font-color1, black)));\n",
       "  --sklearn-color-background: var(--sg-background-color, var(--theme-background, var(--jp-layout-color0, white)));\n",
       "  --sklearn-color-border-box: var(--sg-text-color, var(--theme-code-foreground, var(--jp-content-font-color1, black)));\n",
       "  --sklearn-color-icon: #696969;\n",
       "\n",
       "  @media (prefers-color-scheme: dark) {\n",
       "    /* Redefinition of color scheme for dark theme */\n",
       "    --sklearn-color-text-on-default-background: var(--sg-text-color, var(--theme-code-foreground, var(--jp-content-font-color1, white)));\n",
       "    --sklearn-color-background: var(--sg-background-color, var(--theme-background, var(--jp-layout-color0, #111)));\n",
       "    --sklearn-color-border-box: var(--sg-text-color, var(--theme-code-foreground, var(--jp-content-font-color1, white)));\n",
       "    --sklearn-color-icon: #878787;\n",
       "  }\n",
       "}\n",
       "\n",
       "#sk-container-id-6 {\n",
       "  color: var(--sklearn-color-text);\n",
       "}\n",
       "\n",
       "#sk-container-id-6 pre {\n",
       "  padding: 0;\n",
       "}\n",
       "\n",
       "#sk-container-id-6 input.sk-hidden--visually {\n",
       "  border: 0;\n",
       "  clip: rect(1px 1px 1px 1px);\n",
       "  clip: rect(1px, 1px, 1px, 1px);\n",
       "  height: 1px;\n",
       "  margin: -1px;\n",
       "  overflow: hidden;\n",
       "  padding: 0;\n",
       "  position: absolute;\n",
       "  width: 1px;\n",
       "}\n",
       "\n",
       "#sk-container-id-6 div.sk-dashed-wrapped {\n",
       "  border: 1px dashed var(--sklearn-color-line);\n",
       "  margin: 0 0.4em 0.5em 0.4em;\n",
       "  box-sizing: border-box;\n",
       "  padding-bottom: 0.4em;\n",
       "  background-color: var(--sklearn-color-background);\n",
       "}\n",
       "\n",
       "#sk-container-id-6 div.sk-container {\n",
       "  /* jupyter's `normalize.less` sets `[hidden] { display: none; }`\n",
       "     but bootstrap.min.css set `[hidden] { display: none !important; }`\n",
       "     so we also need the `!important` here to be able to override the\n",
       "     default hidden behavior on the sphinx rendered scikit-learn.org.\n",
       "     See: https://github.com/scikit-learn/scikit-learn/issues/21755 */\n",
       "  display: inline-block !important;\n",
       "  position: relative;\n",
       "}\n",
       "\n",
       "#sk-container-id-6 div.sk-text-repr-fallback {\n",
       "  display: none;\n",
       "}\n",
       "\n",
       "div.sk-parallel-item,\n",
       "div.sk-serial,\n",
       "div.sk-item {\n",
       "  /* draw centered vertical line to link estimators */\n",
       "  background-image: linear-gradient(var(--sklearn-color-text-on-default-background), var(--sklearn-color-text-on-default-background));\n",
       "  background-size: 2px 100%;\n",
       "  background-repeat: no-repeat;\n",
       "  background-position: center center;\n",
       "}\n",
       "\n",
       "/* Parallel-specific style estimator block */\n",
       "\n",
       "#sk-container-id-6 div.sk-parallel-item::after {\n",
       "  content: \"\";\n",
       "  width: 100%;\n",
       "  border-bottom: 2px solid var(--sklearn-color-text-on-default-background);\n",
       "  flex-grow: 1;\n",
       "}\n",
       "\n",
       "#sk-container-id-6 div.sk-parallel {\n",
       "  display: flex;\n",
       "  align-items: stretch;\n",
       "  justify-content: center;\n",
       "  background-color: var(--sklearn-color-background);\n",
       "  position: relative;\n",
       "}\n",
       "\n",
       "#sk-container-id-6 div.sk-parallel-item {\n",
       "  display: flex;\n",
       "  flex-direction: column;\n",
       "}\n",
       "\n",
       "#sk-container-id-6 div.sk-parallel-item:first-child::after {\n",
       "  align-self: flex-end;\n",
       "  width: 50%;\n",
       "}\n",
       "\n",
       "#sk-container-id-6 div.sk-parallel-item:last-child::after {\n",
       "  align-self: flex-start;\n",
       "  width: 50%;\n",
       "}\n",
       "\n",
       "#sk-container-id-6 div.sk-parallel-item:only-child::after {\n",
       "  width: 0;\n",
       "}\n",
       "\n",
       "/* Serial-specific style estimator block */\n",
       "\n",
       "#sk-container-id-6 div.sk-serial {\n",
       "  display: flex;\n",
       "  flex-direction: column;\n",
       "  align-items: center;\n",
       "  background-color: var(--sklearn-color-background);\n",
       "  padding-right: 1em;\n",
       "  padding-left: 1em;\n",
       "}\n",
       "\n",
       "\n",
       "/* Toggleable style: style used for estimator/Pipeline/ColumnTransformer box that is\n",
       "clickable and can be expanded/collapsed.\n",
       "- Pipeline and ColumnTransformer use this feature and define the default style\n",
       "- Estimators will overwrite some part of the style using the `sk-estimator` class\n",
       "*/\n",
       "\n",
       "/* Pipeline and ColumnTransformer style (default) */\n",
       "\n",
       "#sk-container-id-6 div.sk-toggleable {\n",
       "  /* Default theme specific background. It is overwritten whether we have a\n",
       "  specific estimator or a Pipeline/ColumnTransformer */\n",
       "  background-color: var(--sklearn-color-background);\n",
       "}\n",
       "\n",
       "/* Toggleable label */\n",
       "#sk-container-id-6 label.sk-toggleable__label {\n",
       "  cursor: pointer;\n",
       "  display: block;\n",
       "  width: 100%;\n",
       "  margin-bottom: 0;\n",
       "  padding: 0.5em;\n",
       "  box-sizing: border-box;\n",
       "  text-align: center;\n",
       "}\n",
       "\n",
       "#sk-container-id-6 label.sk-toggleable__label-arrow:before {\n",
       "  /* Arrow on the left of the label */\n",
       "  content: \"▸\";\n",
       "  float: left;\n",
       "  margin-right: 0.25em;\n",
       "  color: var(--sklearn-color-icon);\n",
       "}\n",
       "\n",
       "#sk-container-id-6 label.sk-toggleable__label-arrow:hover:before {\n",
       "  color: var(--sklearn-color-text);\n",
       "}\n",
       "\n",
       "/* Toggleable content - dropdown */\n",
       "\n",
       "#sk-container-id-6 div.sk-toggleable__content {\n",
       "  max-height: 0;\n",
       "  max-width: 0;\n",
       "  overflow: hidden;\n",
       "  text-align: left;\n",
       "  /* unfitted */\n",
       "  background-color: var(--sklearn-color-unfitted-level-0);\n",
       "}\n",
       "\n",
       "#sk-container-id-6 div.sk-toggleable__content.fitted {\n",
       "  /* fitted */\n",
       "  background-color: var(--sklearn-color-fitted-level-0);\n",
       "}\n",
       "\n",
       "#sk-container-id-6 div.sk-toggleable__content pre {\n",
       "  margin: 0.2em;\n",
       "  border-radius: 0.25em;\n",
       "  color: var(--sklearn-color-text);\n",
       "  /* unfitted */\n",
       "  background-color: var(--sklearn-color-unfitted-level-0);\n",
       "}\n",
       "\n",
       "#sk-container-id-6 div.sk-toggleable__content.fitted pre {\n",
       "  /* unfitted */\n",
       "  background-color: var(--sklearn-color-fitted-level-0);\n",
       "}\n",
       "\n",
       "#sk-container-id-6 input.sk-toggleable__control:checked~div.sk-toggleable__content {\n",
       "  /* Expand drop-down */\n",
       "  max-height: 200px;\n",
       "  max-width: 100%;\n",
       "  overflow: auto;\n",
       "}\n",
       "\n",
       "#sk-container-id-6 input.sk-toggleable__control:checked~label.sk-toggleable__label-arrow:before {\n",
       "  content: \"▾\";\n",
       "}\n",
       "\n",
       "/* Pipeline/ColumnTransformer-specific style */\n",
       "\n",
       "#sk-container-id-6 div.sk-label input.sk-toggleable__control:checked~label.sk-toggleable__label {\n",
       "  color: var(--sklearn-color-text);\n",
       "  background-color: var(--sklearn-color-unfitted-level-2);\n",
       "}\n",
       "\n",
       "#sk-container-id-6 div.sk-label.fitted input.sk-toggleable__control:checked~label.sk-toggleable__label {\n",
       "  background-color: var(--sklearn-color-fitted-level-2);\n",
       "}\n",
       "\n",
       "/* Estimator-specific style */\n",
       "\n",
       "/* Colorize estimator box */\n",
       "#sk-container-id-6 div.sk-estimator input.sk-toggleable__control:checked~label.sk-toggleable__label {\n",
       "  /* unfitted */\n",
       "  background-color: var(--sklearn-color-unfitted-level-2);\n",
       "}\n",
       "\n",
       "#sk-container-id-6 div.sk-estimator.fitted input.sk-toggleable__control:checked~label.sk-toggleable__label {\n",
       "  /* fitted */\n",
       "  background-color: var(--sklearn-color-fitted-level-2);\n",
       "}\n",
       "\n",
       "#sk-container-id-6 div.sk-label label.sk-toggleable__label,\n",
       "#sk-container-id-6 div.sk-label label {\n",
       "  /* The background is the default theme color */\n",
       "  color: var(--sklearn-color-text-on-default-background);\n",
       "}\n",
       "\n",
       "/* On hover, darken the color of the background */\n",
       "#sk-container-id-6 div.sk-label:hover label.sk-toggleable__label {\n",
       "  color: var(--sklearn-color-text);\n",
       "  background-color: var(--sklearn-color-unfitted-level-2);\n",
       "}\n",
       "\n",
       "/* Label box, darken color on hover, fitted */\n",
       "#sk-container-id-6 div.sk-label.fitted:hover label.sk-toggleable__label.fitted {\n",
       "  color: var(--sklearn-color-text);\n",
       "  background-color: var(--sklearn-color-fitted-level-2);\n",
       "}\n",
       "\n",
       "/* Estimator label */\n",
       "\n",
       "#sk-container-id-6 div.sk-label label {\n",
       "  font-family: monospace;\n",
       "  font-weight: bold;\n",
       "  display: inline-block;\n",
       "  line-height: 1.2em;\n",
       "}\n",
       "\n",
       "#sk-container-id-6 div.sk-label-container {\n",
       "  text-align: center;\n",
       "}\n",
       "\n",
       "/* Estimator-specific */\n",
       "#sk-container-id-6 div.sk-estimator {\n",
       "  font-family: monospace;\n",
       "  border: 1px dotted var(--sklearn-color-border-box);\n",
       "  border-radius: 0.25em;\n",
       "  box-sizing: border-box;\n",
       "  margin-bottom: 0.5em;\n",
       "  /* unfitted */\n",
       "  background-color: var(--sklearn-color-unfitted-level-0);\n",
       "}\n",
       "\n",
       "#sk-container-id-6 div.sk-estimator.fitted {\n",
       "  /* fitted */\n",
       "  background-color: var(--sklearn-color-fitted-level-0);\n",
       "}\n",
       "\n",
       "/* on hover */\n",
       "#sk-container-id-6 div.sk-estimator:hover {\n",
       "  /* unfitted */\n",
       "  background-color: var(--sklearn-color-unfitted-level-2);\n",
       "}\n",
       "\n",
       "#sk-container-id-6 div.sk-estimator.fitted:hover {\n",
       "  /* fitted */\n",
       "  background-color: var(--sklearn-color-fitted-level-2);\n",
       "}\n",
       "\n",
       "/* Specification for estimator info (e.g. \"i\" and \"?\") */\n",
       "\n",
       "/* Common style for \"i\" and \"?\" */\n",
       "\n",
       ".sk-estimator-doc-link,\n",
       "a:link.sk-estimator-doc-link,\n",
       "a:visited.sk-estimator-doc-link {\n",
       "  float: right;\n",
       "  font-size: smaller;\n",
       "  line-height: 1em;\n",
       "  font-family: monospace;\n",
       "  background-color: var(--sklearn-color-background);\n",
       "  border-radius: 1em;\n",
       "  height: 1em;\n",
       "  width: 1em;\n",
       "  text-decoration: none !important;\n",
       "  margin-left: 1ex;\n",
       "  /* unfitted */\n",
       "  border: var(--sklearn-color-unfitted-level-1) 1pt solid;\n",
       "  color: var(--sklearn-color-unfitted-level-1);\n",
       "}\n",
       "\n",
       ".sk-estimator-doc-link.fitted,\n",
       "a:link.sk-estimator-doc-link.fitted,\n",
       "a:visited.sk-estimator-doc-link.fitted {\n",
       "  /* fitted */\n",
       "  border: var(--sklearn-color-fitted-level-1) 1pt solid;\n",
       "  color: var(--sklearn-color-fitted-level-1);\n",
       "}\n",
       "\n",
       "/* On hover */\n",
       "div.sk-estimator:hover .sk-estimator-doc-link:hover,\n",
       ".sk-estimator-doc-link:hover,\n",
       "div.sk-label-container:hover .sk-estimator-doc-link:hover,\n",
       ".sk-estimator-doc-link:hover {\n",
       "  /* unfitted */\n",
       "  background-color: var(--sklearn-color-unfitted-level-3);\n",
       "  color: var(--sklearn-color-background);\n",
       "  text-decoration: none;\n",
       "}\n",
       "\n",
       "div.sk-estimator.fitted:hover .sk-estimator-doc-link.fitted:hover,\n",
       ".sk-estimator-doc-link.fitted:hover,\n",
       "div.sk-label-container:hover .sk-estimator-doc-link.fitted:hover,\n",
       ".sk-estimator-doc-link.fitted:hover {\n",
       "  /* fitted */\n",
       "  background-color: var(--sklearn-color-fitted-level-3);\n",
       "  color: var(--sklearn-color-background);\n",
       "  text-decoration: none;\n",
       "}\n",
       "\n",
       "/* Span, style for the box shown on hovering the info icon */\n",
       ".sk-estimator-doc-link span {\n",
       "  display: none;\n",
       "  z-index: 9999;\n",
       "  position: relative;\n",
       "  font-weight: normal;\n",
       "  right: .2ex;\n",
       "  padding: .5ex;\n",
       "  margin: .5ex;\n",
       "  width: min-content;\n",
       "  min-width: 20ex;\n",
       "  max-width: 50ex;\n",
       "  color: var(--sklearn-color-text);\n",
       "  box-shadow: 2pt 2pt 4pt #999;\n",
       "  /* unfitted */\n",
       "  background: var(--sklearn-color-unfitted-level-0);\n",
       "  border: .5pt solid var(--sklearn-color-unfitted-level-3);\n",
       "}\n",
       "\n",
       ".sk-estimator-doc-link.fitted span {\n",
       "  /* fitted */\n",
       "  background: var(--sklearn-color-fitted-level-0);\n",
       "  border: var(--sklearn-color-fitted-level-3);\n",
       "}\n",
       "\n",
       ".sk-estimator-doc-link:hover span {\n",
       "  display: block;\n",
       "}\n",
       "\n",
       "/* \"?\"-specific style due to the `<a>` HTML tag */\n",
       "\n",
       "#sk-container-id-6 a.estimator_doc_link {\n",
       "  float: right;\n",
       "  font-size: 1rem;\n",
       "  line-height: 1em;\n",
       "  font-family: monospace;\n",
       "  background-color: var(--sklearn-color-background);\n",
       "  border-radius: 1rem;\n",
       "  height: 1rem;\n",
       "  width: 1rem;\n",
       "  text-decoration: none;\n",
       "  /* unfitted */\n",
       "  color: var(--sklearn-color-unfitted-level-1);\n",
       "  border: var(--sklearn-color-unfitted-level-1) 1pt solid;\n",
       "}\n",
       "\n",
       "#sk-container-id-6 a.estimator_doc_link.fitted {\n",
       "  /* fitted */\n",
       "  border: var(--sklearn-color-fitted-level-1) 1pt solid;\n",
       "  color: var(--sklearn-color-fitted-level-1);\n",
       "}\n",
       "\n",
       "/* On hover */\n",
       "#sk-container-id-6 a.estimator_doc_link:hover {\n",
       "  /* unfitted */\n",
       "  background-color: var(--sklearn-color-unfitted-level-3);\n",
       "  color: var(--sklearn-color-background);\n",
       "  text-decoration: none;\n",
       "}\n",
       "\n",
       "#sk-container-id-6 a.estimator_doc_link.fitted:hover {\n",
       "  /* fitted */\n",
       "  background-color: var(--sklearn-color-fitted-level-3);\n",
       "}\n",
       "</style><div id=\"sk-container-id-6\" class=\"sk-top-container\"><div class=\"sk-text-repr-fallback\"><pre>MinMaxScaler()</pre><b>In a Jupyter environment, please rerun this cell to show the HTML representation or trust the notebook. <br />On GitHub, the HTML representation is unable to render, please try loading this page with nbviewer.org.</b></div><div class=\"sk-container\" hidden><div class=\"sk-item\"><div class=\"sk-estimator fitted sk-toggleable\"><input class=\"sk-toggleable__control sk-hidden--visually\" id=\"sk-estimator-id-6\" type=\"checkbox\" checked><label for=\"sk-estimator-id-6\" class=\"sk-toggleable__label fitted sk-toggleable__label-arrow fitted\">&nbsp;&nbsp;MinMaxScaler<a class=\"sk-estimator-doc-link fitted\" rel=\"noreferrer\" target=\"_blank\" href=\"https://scikit-learn.org/1.5/modules/generated/sklearn.preprocessing.MinMaxScaler.html\">?<span>Documentation for MinMaxScaler</span></a><span class=\"sk-estimator-doc-link fitted\">i<span>Fitted</span></span></label><div class=\"sk-toggleable__content fitted\"><pre>MinMaxScaler()</pre></div> </div></div></div></div>"
      ],
      "text/plain": [
       "MinMaxScaler()"
      ]
     },
     "execution_count": 185,
     "metadata": {},
     "output_type": "execute_result"
    }
   ],
   "source": [
    "scaler = MinMaxScaler()\n",
    "scaler.fit(df.Price.values.reshape(-1,1))"
   ]
  },
  {
   "cell_type": "code",
   "execution_count": 186,
   "metadata": {},
   "outputs": [],
   "source": [
    "train_data = df.Price[:-test_size]\n",
    "train_data = scaler.transform(train_data.values.reshape(-1,1))"
   ]
  },
  {
   "cell_type": "code",
   "execution_count": 1,
   "metadata": {},
   "outputs": [
    {
     "ename": "NameError",
     "evalue": "name 'window_size' is not defined",
     "output_type": "error",
     "traceback": [
      "\u001b[1;31m---------------------------------------------------------------------------\u001b[0m",
      "\u001b[1;31mNameError\u001b[0m                                 Traceback (most recent call last)",
      "Cell \u001b[1;32mIn[1], line 4\u001b[0m\n\u001b[0;32m      1\u001b[0m X_train \u001b[38;5;241m=\u001b[39m []\n\u001b[0;32m      2\u001b[0m y_train \u001b[38;5;241m=\u001b[39m []\n\u001b[1;32m----> 4\u001b[0m \u001b[38;5;28;01mfor\u001b[39;00m i \u001b[38;5;129;01min\u001b[39;00m \u001b[38;5;28mrange\u001b[39m(\u001b[43mwindow_size\u001b[49m, \u001b[38;5;28mlen\u001b[39m(train_data)):\n\u001b[0;32m      5\u001b[0m     X_train\u001b[38;5;241m.\u001b[39mappend(train_data[i\u001b[38;5;241m-\u001b[39m\u001b[38;5;241m60\u001b[39m:i, \u001b[38;5;241m0\u001b[39m])\n\u001b[0;32m      6\u001b[0m     y_train\u001b[38;5;241m.\u001b[39mappend(train_data[i, \u001b[38;5;241m0\u001b[39m])\n",
      "\u001b[1;31mNameError\u001b[0m: name 'window_size' is not defined"
     ]
    }
   ],
   "source": [
    "X_train = []\n",
    "y_train = []\n",
    "\n",
    "for i in range(window_size, len(train_data)):\n",
    "    X_train.append(train_data[i-60:i, 0])\n",
    "    y_train.append(train_data[i, 0])"
   ]
  },
  {
   "cell_type": "code",
   "execution_count": 188,
   "metadata": {},
   "outputs": [],
   "source": [
    "test_data = df.Price[-test_size-60:]\n",
    "test_data = scaler.transform(test_data.values.reshape(-1,1))"
   ]
  },
  {
   "cell_type": "code",
   "execution_count": 189,
   "metadata": {},
   "outputs": [],
   "source": [
    "X_test = []\n",
    "y_test = []\n",
    "\n",
    "for i in range(window_size, len(test_data)):\n",
    "    X_test.append(test_data[i-60:i, 0])\n",
    "    y_test.append(test_data[i, 0])"
   ]
  },
  {
   "cell_type": "code",
   "execution_count": 190,
   "metadata": {},
   "outputs": [],
   "source": [
    "# # 3. Chia dữ liệu thành tập huấn luyện và kiểm thử (70% huấn luyện, 30% kiểm thử)\n",
    "# X_train, X_test, y_train, y_test = train_test_split(X, y, test_size=0.2, random_state=42)"
   ]
  },
  {
   "cell_type": "code",
   "execution_count": 191,
   "metadata": {},
   "outputs": [],
   "source": [
    "# # Chuyển đổi y_train\n",
    "# y_train = y_train.str.replace(',', '').astype(float)\n"
   ]
  },
  {
   "cell_type": "code",
   "execution_count": 192,
   "metadata": {},
   "outputs": [],
   "source": [
    "# # Kiểm tra các giá trị trong cột Open để xác định lỗi\n",
    "# print(df['Open'].head(10))  # Kiểm tra thử 10 dòng đầu tiên để xem cấu trúc dữ liệu\n",
    "\n",
    "# # Xóa dấu phẩy và chuyển đổi sang float\n",
    "# df['Open'] = df['Open'].replace(',', '', regex=True)  # Xóa dấu phẩy trong chuỗi\n",
    "\n",
    "# # Kiểm tra lại kiểu dữ liệu sau khi chuyển đổi\n",
    "# df['Open'] = pd.to_numeric(df['Open'], errors='coerce')  # Chuyển đổi dữ liệu về dạng số\n",
    "# print(df.dtypes)  # Xác nhận kiểu dữ liệu\n",
    "\n"
   ]
  },
  {
   "cell_type": "code",
   "execution_count": 193,
   "metadata": {},
   "outputs": [
    {
     "name": "stdout",
     "output_type": "stream",
     "text": [
      "Price            int64\n",
      "Open             int64\n",
      "High             int64\n",
      "Low              int64\n",
      "Volume           int64\n",
      "Chg%           float64\n",
      "year             int32\n",
      "month            int32\n",
      "day              int32\n",
      "day_of_week      int32\n",
      "day_of_year      int32\n",
      "dtype: object\n"
     ]
    }
   ],
   "source": [
    "print(df.dtypes)\n"
   ]
  },
  {
   "cell_type": "markdown",
   "metadata": {},
   "source": [
    "# HỒI QUY TUYẾN TÍNH"
   ]
  },
  {
   "cell_type": "code",
   "execution_count": null,
   "metadata": {},
   "outputs": [],
   "source": []
  },
  {
   "cell_type": "code",
   "execution_count": 194,
   "metadata": {},
   "outputs": [
    {
     "name": "stdout",
     "output_type": "stream",
     "text": [
      "\n",
      "Comparison for Linear Regression model:\n",
      "     Actual  Predicted\n",
      "0  0.726213   0.745176\n",
      "1  0.735398   0.724465\n",
      "2  0.744520   0.730938\n",
      "3  0.727037   0.744204\n",
      "4  0.726466   0.728979\n"
     ]
    }
   ],
   "source": [
    "# 4. Linear Regression\n",
    "model_lr = LinearRegression()\n",
    "model_lr.fit(X_train, y_train)\n",
    "y_pred_lr = model_lr.predict(X_test)\n",
    "compare_predictions(y_test, y_pred_lr, \"Linear Regression\")"
   ]
  },
  {
   "cell_type": "code",
   "execution_count": 195,
   "metadata": {},
   "outputs": [
    {
     "name": "stdout",
     "output_type": "stream",
     "text": [
      "Linear Regression - MAE: 0.010321747719532018, RMSE: 0.013953292272500693, R2: 0.9060959738648107\n"
     ]
    }
   ],
   "source": [
    "\n",
    "# Dự đoán trên tập kiểm tra\n",
    "y_pred_lr = model_lr.predict(X_test)\n",
    "mae_linear = mean_absolute_error(y_test, y_pred_lr)\n",
    "mse = mean_squared_error(y_test, y_pred_lr)\n",
    "\n",
    "rmse_linear = math.sqrt(mean_squared_error(y_test, y_pred_lr))\n",
    "r2_linear = r2_score(y_test, y_pred_lr)\n",
    "\n",
    "print(f\"Linear Regression - MAE: {mae_linear}, RMSE: {rmse_linear}, R2: {r2_linear}\")"
   ]
  },
  {
   "cell_type": "code",
   "execution_count": 196,
   "metadata": {},
   "outputs": [],
   "source": [
    "# plt.scatter(y_test, y_pred_lr, label=\"Linear Regression\")\n",
    "# plt.plot([y.min(), y.max()], [y.min(), y.max()], color='red', linewidth=2, label=\"Actual\")\n",
    "# plt.xlabel(\"Giá thực tế\")\n",
    "# plt.ylabel(\"Giá dự đoán\")\n",
    "# plt.legend()\n",
    "# plt.title(\"Biểu đồ giữa dự đoán và thực tế của mô hình\")\n",
    "# plt.show()\n"
   ]
  },
  {
   "cell_type": "markdown",
   "metadata": {},
   "source": [
    "# Rigde\n"
   ]
  },
  {
   "cell_type": "code",
   "execution_count": 197,
   "metadata": {},
   "outputs": [
    {
     "name": "stdout",
     "output_type": "stream",
     "text": [
      "Ridge Regression - MAE: 0.011338988132144276, RMSE: 0.015622449555943255, R2: 0.8822857357332812\n"
     ]
    }
   ],
   "source": [
    "\n",
    "# Khởi tạo và huấn luyện Ridge Regression\n",
    "ridge_reg = Ridge(alpha=1.0)\n",
    "ridge_reg.fit(X_train, y_train)\n",
    "\n",
    "y_pred_ridge = ridge_reg.predict(X_test)\n",
    "\n",
    "# Đánh giá mô hình Ridge Regression\n",
    "mae_ridge = mean_absolute_error(y_test, y_pred_ridge)\n",
    "rmse_ridge = math.sqrt(mean_squared_error(y_test, y_pred_ridge))\n",
    "r2_ridge = r2_score(y_test, y_pred_ridge)\n",
    "\n",
    "print(f\"Ridge Regression - MAE: {mae_ridge}, RMSE: {rmse_ridge}, R2: {r2_ridge}\")\n"
   ]
  },
  {
   "cell_type": "code",
   "execution_count": 198,
   "metadata": {},
   "outputs": [
    {
     "data": {
      "image/png": "[encoded data removed]",
      "text/plain": [
       "<Figure size 640x480 with 1 Axes>"
      ]
     },
     "metadata": {},
     "output_type": "display_data"
    }
   ],
   "source": [
    "plt.scatter(y_test, y_pred_ridge, label=\"Ridge Regression\", alpha=0.5)\n",
    "plt.plot([y.min(), y.max()], [y.min(), y.max()], color='red', linewidth=2, label=\"Actual\")\n",
    "plt.xlabel(\"Giá thực tế\")\n",
    "plt.ylabel(\"Giá dự đoán\")\n",
    "plt.legend()\n",
    "plt.title(\"Biểu đồ giữa dự đoán và thực tế của mô hình\")\n",
    "plt.show()"
   ]
  },
  {
   "cell_type": "markdown",
   "metadata": {},
   "source": [
    "# Neural network"
   ]
  },
  {
   "cell_type": "code",
   "execution_count": 201,
   "metadata": {},
   "outputs": [
    {
     "name": "stdout",
     "output_type": "stream",
     "text": [
      "\n",
      "Comparison for Neural Network model:\n",
      "     Actual  Predicted\n",
      "0  0.726213   0.760726\n",
      "1  0.735398   0.754695\n",
      "2  0.744520   0.740656\n",
      "3  0.727037   0.737857\n",
      "4  0.726466   0.743325\n"
     ]
    }
   ],
   "source": [
    "# 6. Neural Network (MLPRegressor)\n",
    "model_nn = MLPRegressor(hidden_layer_sizes=(100, 50),activation='relu', max_iter=500)\n",
    "model_nn.fit(X_train, y_train)\n",
    "y_pred_nn = model_nn.predict(X_test)\n",
    "compare_predictions(y_test, y_pred_nn, \"Neural Network\")"
   ]
  },
  {
   "cell_type": "code",
   "execution_count": 152,
   "metadata": {},
   "outputs": [
    {
     "name": "stdout",
     "output_type": "stream",
     "text": [
      "Neural Network - MAE: 0.02253019600396863, RMSE: 0.028150478861397193, R2: 0.6177896842466044\n"
     ]
    }
   ],
   "source": [
    "# Đánh giá mô hình Neural Network\n",
    "mae_nn = mean_absolute_error(y_test, y_pred_nn)\n",
    "rmse_nn = math.sqrt(mean_squared_error(y_test, y_pred_nn))\n",
    "r2_nn = r2_score(y_test, y_pred_nn)\n",
    "\n",
    "print(f\"Neural Network - MAE: {mae_nn}, RMSE: {rmse_nn}, R2: {r2_nn}\")"
   ]
  },
  {
   "cell_type": "code",
   "execution_count": 153,
   "metadata": {},
   "outputs": [
    {
     "name": "stdout",
     "output_type": "stream",
     "text": [
      "Neural Network - MAE: 0.02253019600396863, RMSE: 0.028150478861397193, R2: 0.6177896842466044\n"
     ]
    }
   ],
   "source": [
    "# Đánh giá mô hình Neural Network\n",
    "mae_nn = mean_absolute_error(y_test, y_pred_nn)\n",
    "rmse_nn = math.sqrt(mean_squared_error(y_test, y_pred_nn))\n",
    "r2_nn = r2_score(y_test, y_pred_nn)\n",
    "\n",
    "print(f\"Neural Network - MAE: {mae_nn}, RMSE: {rmse_nn}, R2: {r2_nn}\")"
   ]
  },
  {
   "cell_type": "code",
   "execution_count": 154,
   "metadata": {},
   "outputs": [
    {
     "data": {
      "image/png": "[encoded data removed]",
      "text/plain": [
       "<Figure size 640x480 with 1 Axes>"
      ]
     },
     "metadata": {},
     "output_type": "display_data"
    }
   ],
   "source": [
    "plt.scatter(y_test, y_pred_nn, label=\"Neural Network\", alpha=0.5)\n",
    "plt.plot([y.min(), y.max()], [y.min(), y.max()], color='red', linewidth=2, label=\"Actual\")\n",
    "plt.xlabel(\"Giá thực tế\")\n",
    "plt.ylabel(\"Giá dự đoán\")\n",
    "plt.legend()\n",
    "plt.title(\"Biểu đồ giữa dự đoán và thực tế của mô hình\")\n",
    "plt.show()"
   ]
  },
  {
   "cell_type": "code",
   "execution_count": 155,
   "metadata": {},
   "outputs": [
    {
     "name": "stdout",
     "output_type": "stream",
     "text": [
      "Linear Regression R^2 scores (K-Fold): [0.99888116 0.99829624 0.99870465 0.99828385 0.99855611]\n",
      "Mean R^2 on training set for Linear Regression: 0.9985443988018268\n",
      "Ridge Regression R^2 scores (K-Fold): [0.99789473 0.99695437 0.99705426 0.99714385 0.99777352]\n",
      "Mean R^2 on training set for Ridge Regression: 0.9973641462601359\n",
      "Neural Network R^2 scores (K-Fold): [0.99202089 0.99119503 0.98807744 0.99090887 0.98111252]\n",
      "Mean R^2 on training set for Neural Network: 0.9886629493143371\n",
      "R^2 on test set for Ridge Regression: 0.8822857357332812\n",
      "R^2 on test set for Linear Regression: 0.9060959738648107\n",
      "R^2 on test set for Neural Network: 0.5506867087604426\n",
      "Ridge model: Possible overfitting detected\n",
      "Linear model: No overfitting detected\n",
      "Neural Network model: Possible overfitting detected\n"
     ]
    }
   ],
   "source": [
    "# Sử dụng 5-fold cross-validation\n",
    "kf = KFold(n_splits=5, shuffle=True, random_state=42)\n",
    "\n",
    "# K-Fold cho Linear Regression\n",
    "cv_r2_scores_linear = cross_val_score(model_lr, X_train, y_train, cv=kf, scoring='r2')\n",
    "print(f\"Linear Regression R^2 scores (K-Fold): {cv_r2_scores_linear}\")\n",
    "print(f\"Mean R^2 on training set for Linear Regression: {np.mean(cv_r2_scores_linear)}\")\n",
    "\n",
    "# K-Fold cho Ridge Regression\n",
    "cv_r2_scores_ridge = cross_val_score(ridge_reg, X_train, y_train, cv=kf, scoring='r2')\n",
    "print(f\"Ridge Regression R^2 scores (K-Fold): {cv_r2_scores_ridge}\")\n",
    "print(f\"Mean R^2 on training set for Ridge Regression: {np.mean(cv_r2_scores_ridge)}\")\n",
    "\n",
    "# K-Fold cho Neural Network (MLPRegressor)\n",
    "cv_r2_scores_nn = cross_val_score(model_nn, X_train, y_train, cv=kf, scoring='r2')\n",
    "print(f\"Neural Network R^2 scores (K-Fold): {cv_r2_scores_nn}\")\n",
    "print(f\"Mean R^2 on training set for Neural Network: {np.mean(cv_r2_scores_nn)}\")\n",
    "\n",
    "# So sánh kết quả R² trên tập kiểm tra và tập huấn luyện\n",
    "ridge_reg.fit(X_train, y_train)\n",
    "y_pred_ridge = ridge_reg.predict(X_test)\n",
    "r2_test_ridge = r2_score(y_test, y_pred_ridge)\n",
    "print(f\"R^2 on test set for Ridge Regression: {r2_test_ridge}\")\n",
    "\n",
    "model_lr.fit(X_train, y_train)\n",
    "y_pred_linear = model_lr.predict(X_test)\n",
    "r2_test_linear = r2_score(y_test, y_pred_linear)\n",
    "print(f\"R^2 on test set for Linear Regression: {r2_test_linear}\")\n",
    "\n",
    "model_nn.fit(X_train, y_train)\n",
    "y_pred_nn = model_nn.predict(X_test)\n",
    "r2_test_nn = r2_score(y_test, y_pred_nn)\n",
    "print(f\"R^2 on test set for Neural Network: {r2_test_nn}\")\n",
    "\n",
    "# Kiểm tra overfitting\n",
    "if r2_test_ridge < np.mean(cv_r2_scores_ridge) - 0.1:\n",
    "    print(\"Ridge model: Possible overfitting detected\")\n",
    "else:\n",
    "    print(\"Ridge model: No overfitting detected\")\n",
    "\n",
    "if r2_test_linear < np.mean(cv_r2_scores_linear) - 0.1:\n",
    "    print(\"Linear model: Possible overfitting detected\")\n",
    "else:\n",
    "    print(\"Linear model: No overfitting detected\")\n",
    "\n",
    "if r2_test_nn < np.mean(cv_r2_scores_nn) - 0.1:\n",
    "    print(\"Neural Network model: Possible overfitting detected\")\n",
    "else:\n",
    "    print(\"Neural Network model: No overfitting detected\")"
   ]
  },
  {
   "cell_type": "code",
   "execution_count": 156,
   "metadata": {},
   "outputs": [
    {
     "name": "stdout",
     "output_type": "stream",
     "text": [
      "\n",
      "Comparison for Stacking model:\n",
      "     Actual  Predicted\n",
      "0  0.726213   0.743848\n",
      "1  0.735398   0.723440\n",
      "2  0.744520   0.729890\n",
      "3  0.727037   0.743016\n",
      "4  0.726466   0.728051\n"
     ]
    }
   ],
   "source": [
    "# 7. Stacking Model\n",
    "estimators = [\n",
    "    ('lr', LinearRegression()),\n",
    "    ('ridge', Ridge(alpha=1.0)),\n",
    "    ('nn', MLPRegressor(hidden_layer_sizes=(100, 50), max_iter=500))\n",
    "]\n",
    "stacking_model = StackingRegressor(estimators=estimators, final_estimator=LinearRegression())\n",
    "stacking_model.fit(X_train, y_train)\n",
    "y_pred_stack = stacking_model.predict(X_test)\n",
    "compare_predictions(y_test, y_pred_stack, \"Stacking\")"
   ]
  },
  {
   "cell_type": "code",
   "execution_count": 157,
   "metadata": {},
   "outputs": [
    {
     "name": "stdout",
     "output_type": "stream",
     "text": [
      "Stacking Model - MAE: 0.010529169225584485, RMSE: 0.014079837061760797, R²: 0.9043849869897261\n"
     ]
    }
   ],
   "source": [
    "# Đánh giá mô hình Stacking\n",
    "mae_stack = mean_absolute_error(y_test, y_pred_stack)\n",
    "rmse_stack = math.sqrt(mean_squared_error(y_test, y_pred_stack))\n",
    "r2_stack = r2_score(y_test, y_pred_stack)\n",
    "\n",
    "print(f\"Stacking Model - MAE: {mae_stack}, RMSE: {rmse_stack}, R²: {r2_stack}\")\n"
   ]
  },
  {
   "cell_type": "code",
   "execution_count": 158,
   "metadata": {},
   "outputs": [
    {
     "name": "stdout",
     "output_type": "stream",
     "text": [
      "Stacking Model R² scores (K-Fold): [0.99885459 0.99830286 0.99868479 0.99827454 0.99856515]\n",
      "Mean R² on training set for Stacking Model: 0.9985363869979531\n"
     ]
    }
   ],
   "source": [
    "# K-Fold Cross-Validation cho Stacking Model\n",
    "cv_r2_scores_stack = cross_val_score(stacking_model, X_train, y_train, cv=kf, scoring='r2')\n",
    "print(f\"Stacking Model R² scores (K-Fold): {cv_r2_scores_stack}\")\n",
    "print(f\"Mean R² on training set for Stacking Model: {np.mean(cv_r2_scores_stack)}\")\n"
   ]
  },
  {
   "cell_type": "code",
   "execution_count": 159,
   "metadata": {},
   "outputs": [
    {
     "data": {
      "image/png": "[encoded data removed]",
      "text/plain": [
       "<Figure size 640x480 with 1 Axes>"
      ]
     },
     "metadata": {},
     "output_type": "display_data"
    }
   ],
   "source": [
    "plt.scatter(y_test, y_pred_stack, label=\"Stacking Model\", alpha=0.5)\n",
    "plt.plot([y.min(), y.max()], [y.min(), y.max()], color='red', linewidth=2, label=\"Actual\")\n",
    "plt.xlabel(\"Giá thực tế\")\n",
    "plt.ylabel(\"Giá dự đoán\")\n",
    "plt.legend()\n",
    "plt.title(\"Biểu đồ giữa dự đoán và thực tế của các mô hình\")\n",
    "plt.show()\n"
   ]
  },
  {
   "cell_type": "code",
   "execution_count": 161,
   "metadata": {},
   "outputs": [
    {
     "data": {
      "image/png": "[encoded data removed]",
      "text/plain": [
       "<Figure size 1000x600 with 1 Axes>"
      ]
     },
     "metadata": {},
     "output_type": "display_data"
    }
   ],
   "source": [
    "def evaluate_model(y_test, y_pred, model_name):\n",
    "    mse = mean_squared_error(y_test, y_pred)\n",
    "    mae = mean_absolute_error(y_test, y_pred)\n",
    "    r2 = r2_score(y_test, y_pred)\n",
    "    \n",
    "    return mse, mae, r2\n",
    "\n",
    "# Danh sách các mô hình và dự đoán\n",
    "models = [\"Linear Regression\", \"Ridge Regression\", \"Neural Network\", \"Stacking\"]\n",
    "predictions = [y_pred_lr, y_pred_ridge, y_pred_nn, y_pred_stack]\n",
    "\n",
    "# Khởi tạo danh sách để lưu trữ kết quả\n",
    "mse_list = []\n",
    "mae_list = []\n",
    "r2_list = []\n",
    "\n",
    "# Đánh giá từng mô hình và lưu trữ kết quả\n",
    "for model_name, y_pred in zip(models, predictions):\n",
    "    mse, mae, r2 = evaluate_model(y_test, y_pred, model_name)\n",
    "    mse_list.append(mse)\n",
    "    mae_list.append(mae)\n",
    "    r2_list.append(r2)\n",
    "\n",
    "# Vẽ biểu đồ cột cho các độ đo\n",
    "x = np.arange(len(models))  # Vị trí cho từng mô hình\n",
    "width = 0.25  # Độ rộng của mỗi cột\n",
    "\n",
    "fig, ax = plt.subplots(figsize=(10, 6))\n",
    "\n",
    "# Vẽ cột cho từng độ đo\n",
    "rects1 = ax.bar(x - width, mse_list, width, label='MSE')\n",
    "rects2 = ax.bar(x, mae_list, width, label='MAE')\n",
    "rects3 = ax.bar(x + width, r2_list, width, label='R²')\n",
    "\n",
    "# Thêm nhãn và tiêu đề\n",
    "ax.set_xlabel('Models')\n",
    "ax.set_title('Model Evaluation Metrics')\n",
    "ax.set_xticks(x)\n",
    "ax.set_xticklabels(models)\n",
    "ax.legend()\n",
    "\n",
    "# Hiển thị giá trị trên cột\n",
    "def autolabel(rects):\n",
    "    \"\"\"Gán nhãn cho mỗi cột.\"\"\"\n",
    "    for rect in rects:\n",
    "        height = rect.get_height()\n",
    "        ax.annotate(f'{height:.2f}',\n",
    "                    xy=(rect.get_x() + rect.get_width() / 2, height),\n",
    "                    xytext=(0, 3),  # 3 points vertical offset\n",
    "                    textcoords=\"offset points\",\n",
    "                    ha='center', va='bottom')\n",
    "\n",
    "autolabel(rects1)\n",
    "autolabel(rects2)\n",
    "autolabel(rects3)\n",
    "\n",
    "plt.tight_layout()\n",
    "plt.show()"
   ]
  },
  {
   "cell_type": "code",
   "execution_count": 160,
   "metadata": {},
   "outputs": [
    {
     "name": "stdout",
     "output_type": "stream",
     "text": [
      "\n",
      "Linear Regression Model Evaluation:\n",
      "MSE: 0.00019469436524182754\n",
      "MAE: 0.010321747719532018\n",
      "R²: 0.9060959738648107\n",
      "\n",
      "Ridge Regression Model Evaluation:\n",
      "MSE: 0.0002440609301279916\n",
      "MAE: 0.011338988132144276\n",
      "R²: 0.8822857357332812\n",
      "\n",
      "Neural Network Model Evaluation:\n",
      "MSE: 0.0009315763086309291\n",
      "MAE: 0.023436513259786754\n",
      "R²: 0.5506867087604426\n",
      "\n",
      "Stacking Model Evaluation:\n",
      "MSE: 0.00019824181168573294\n",
      "MAE: 0.010529169225584485\n",
      "R²: 0.9043849869897261\n"
     ]
    }
   ],
   "source": [
    "# 8. Đánh giá mô hình bằng các chỉ số như MSE, MAE, R²\n",
    "def evaluate_model(y_test, y_pred, model_name):\n",
    "    print(f\"\\n{model_name} Model Evaluation:\")\n",
    "    print(\"MSE:\", mean_squared_error(y_test, y_pred))\n",
    "    print(\"MAE:\", mean_absolute_error(y_test, y_pred))\n",
    "    print(\"R²:\", r2_score(y_test, y_pred))\n",
    "    \n",
    "    \n",
    "\n",
    "# Đánh giá từng mô hình\n",
    "evaluate_model(y_test, y_pred_lr, \"Linear Regression\")\n",
    "evaluate_model(y_test, y_pred_ridge, \"Ridge Regression\")\n",
    "evaluate_model(y_test, y_pred_nn, \"Neural Network\")\n",
    "evaluate_model(y_test, y_pred_stack, \"Stacking\")"
   ]
  }
 ],
 "metadata": {
  "kernelspec": {
   "display_name": "Python 3",
   "language": "python",
   "name": "python3"
  },
  "language_info": {
   "codemirror_mode": {
    "name": "ipython",
    "version": 3
   },
   "file_extension": ".py",
   "mimetype": "text/x-python",
   "name": "python",
   "nbconvert_exporter": "python",
   "pygments_lexer": "ipython3",
   "version": "3.12.6"
  }
 },
 "nbformat": 4,
 "nbformat_minor": 2
}
