{
 "cells": [
  {
   "cell_type": "code",
   "execution_count": 222,
   "metadata": {},
   "outputs": [],
   "source": [
    "import pandas as pd\n",
    "import numpy as np\n",
    "import matplotlib.pyplot as plt\n",
    "from sklearn.linear_model import LinearRegression, Ridge\n",
    "from sklearn.neural_network import MLPRegressor\n",
    "from sklearn.ensemble import StackingRegressor\n",
    "from sklearn.model_selection import train_test_split\n",
    "from sklearn.metrics import mean_squared_error, mean_absolute_error, r2_score\n",
    "import math\n",
    "from sklearn.model_selection import cross_val_score, KFold\n",
    "import plotly.express as px\n",
    "from sklearn.preprocessing import MinMaxScaler\n"
   ]
  },
  {
   "cell_type": "code",
   "execution_count": 223,
   "metadata": {},
   "outputs": [],
   "source": [
    "# 1. Đọc dữ liệu từ file CSV\n",
    "df = pd.read_csv(\"Gold Price (2013-2023).csv\")"
   ]
  },
  {
   "cell_type": "code",
   "execution_count": 224,
   "metadata": {},
   "outputs": [
    {
     "name": "stdout",
     "output_type": "stream",
     "text": [
      "Date        object\n",
      "Price       object\n",
      "Open        object\n",
      "High        object\n",
      "Low         object\n",
      "Vol.        object\n",
      "Change %    object\n",
      "dtype: object\n"
     ]
    }
   ],
   "source": [
    "print(df.dtypes)\n"
   ]
  },
  {
   "cell_type": "code",
   "execution_count": 225,
   "metadata": {},
   "outputs": [
    {
     "name": "stdout",
     "output_type": "stream",
     "text": [
      "Date        datetime64[ns]\n",
      "Price              float64\n",
      "Open               float64\n",
      "High               float64\n",
      "Low                float64\n",
      "Vol.               float64\n",
      "Change %           float64\n",
      "dtype: object\n",
      "        Date   Price    Open     High      Low      Vol.  Change %\n",
      "0 2022-12-30  1826.2  1821.8  1832.40  1819.80  107500.0      0.01\n",
      "1 2022-12-29  1826.0  1812.3  1827.30  1811.20  105990.0      0.56\n",
      "2 2022-12-28  1815.8  1822.4  1822.80  1804.20  118080.0     -0.40\n",
      "3 2022-12-27  1823.1  1808.2  1841.90  1808.00  159620.0      0.74\n",
      "4 2022-12-26  1809.7  1805.8  1811.95  1805.55       NaN      0.30\n"
     ]
    }
   ],
   "source": [
    "\n",
    "\n",
    "# Bước 1: Chuyển đổi cột 'Date' thành datetime\n",
    "df['Date'] = pd.to_datetime(df['Date'], errors='coerce')\n",
    "\n",
    "# Bước 2: Loại bỏ dấu phẩy và chuyển đổi các cột về kiểu float\n",
    "for col in ['Price', 'Open', 'High', 'Low']:\n",
    "    df[col] = df[col].replace({',': ''}, regex=True).astype(float)\n",
    "\n",
    "# Bước 3: Xử lý cột 'Vol.' để chuyển đổi giá trị có ký hiệu 'K' thành số thực\n",
    "df['Vol.'] = df['Vol.'].replace({',': ''}, regex=True)\n",
    "df['Vol.'] = df['Vol.'].apply(lambda x: float(x.replace('K', '')) * 1000 if 'K' in str(x) else float(x))\n",
    "\n",
    "# Bước 4: Loại bỏ dấu phần trăm trong cột 'Change %' và chuyển đổi về kiểu float\n",
    "df['Change %'] = df['Change %'].str.replace('%', '').astype(float)\n",
    "\n",
    "# Kiểm tra lại kết quả\n",
    "print(df.dtypes)\n",
    "print(df.head())\n"
   ]
  },
  {
   "cell_type": "code",
   "execution_count": 226,
   "metadata": {},
   "outputs": [],
   "source": [
    "# # Xóa dấu phân cách hàng nghìn và chuyển đổi sang kiểu float trước khi đổi sang int64\n",
    "# for col in df.select_dtypes(include=['object']).columns:\n",
    "#     # Loại bỏ dấu phẩy nếu có trong dữ liệu và chuyển sang float\n",
    "#     df[col] = df[col].str.replace(',','').astype(float)\n",
    "\n",
    "# # Sau khi tất cả các cột đã được chuyển về dạng float, chuyển sang int64 nếu cần\n",
    "# for col in df.columns:\n",
    "#     if df[col].dtype == 'float64':\n",
    "#         df[col] = df[col].astype('int64')\n",
    "\n",
    "# # Kiểm tra lại kiểu dữ liệu và hiển thị dữ liệu đầu ra\n",
    "# print(df.dtypes)\n",
    "# print(df.head())\n"
   ]
  },
  {
   "cell_type": "code",
   "execution_count": 227,
   "metadata": {},
   "outputs": [
    {
     "name": "stdout",
     "output_type": "stream",
     "text": [
      "Date        int64\n",
      "Price       int64\n",
      "Open        int64\n",
      "High        int64\n",
      "Low         int64\n",
      "Vol.        int64\n",
      "Change %    int64\n",
      "dtype: object\n"
     ]
    }
   ],
   "source": [
    "# Đầu tiên chuyển các cột dữ liệu về dạng số nếu có giá trị chuỗi\n",
    "df = df.apply(pd.to_numeric, errors='coerce')\n",
    "\n",
    "# Đổi các cột dạng float64 thành int64\n",
    "for col in df.select_dtypes(include=['float64', 'int32']).columns:\n",
    "    df[col] = df[col].fillna(0).astype('int64')  # Điền giá trị thiếu (nếu có) và đổi kiểu\n",
    "\n",
    "# Kiểm tra lại kiểu dữ liệu\n",
    "print(df.dtypes)\n"
   ]
  },
  {
   "cell_type": "code",
   "execution_count": 228,
   "metadata": {},
   "outputs": [
    {
     "name": "stdout",
     "output_type": "stream",
     "text": [
      "<class 'pandas.core.frame.DataFrame'>\n",
      "RangeIndex: 2583 entries, 0 to 2582\n",
      "Data columns (total 7 columns):\n",
      " #   Column    Non-Null Count  Dtype\n",
      "---  ------    --------------  -----\n",
      " 0   Date      2583 non-null   int64\n",
      " 1   Price     2583 non-null   int64\n",
      " 2   Open      2583 non-null   int64\n",
      " 3   High      2583 non-null   int64\n",
      " 4   Low       2583 non-null   int64\n",
      " 5   Vol.      2583 non-null   int64\n",
      " 6   Change %  2583 non-null   int64\n",
      "dtypes: int64(7)\n",
      "memory usage: 141.4 KB\n",
      "None\n"
     ]
    }
   ],
   "source": [
    "# Hiển thị thông tin tổng quan về dữ liệu\n",
    "print(df.info())"
   ]
  },
  {
   "cell_type": "code",
   "execution_count": 229,
   "metadata": {},
   "outputs": [
    {
     "data": {
      "text/plain": [
       "Index(['Date', 'Price', 'Open', 'High', 'Low', 'Vol.', 'Change %'], dtype='object')"
      ]
     },
     "execution_count": 229,
     "metadata": {},
     "output_type": "execute_result"
    }
   ],
   "source": [
    "df.columns"
   ]
  },
  {
   "cell_type": "code",
   "execution_count": 230,
   "metadata": {},
   "outputs": [],
   "source": [
    "def compare_predictions(y_test, y_pred, model_name):\n",
    "    comparison = pd.DataFrame({'Actual': y_test, 'Predicted': y_pred})\n",
    "    print(f\"\\nComparison for {model_name} model:\")\n",
    "    print(comparison.head())  # Hiển thị 5 giá trị đầu tiên"
   ]
  },
  {
   "cell_type": "code",
   "execution_count": 231,
   "metadata": {},
   "outputs": [
    {
     "data": {
      "text/html": [
       "<div>\n",
       "<style scoped>\n",
       "    .dataframe tbody tr th:only-of-type {\n",
       "        vertical-align: middle;\n",
       "    }\n",
       "\n",
       "    .dataframe tbody tr th {\n",
       "        vertical-align: top;\n",
       "    }\n",
       "\n",
       "    .dataframe thead th {\n",
       "        text-align: right;\n",
       "    }\n",
       "</style>\n",
       "<table border=\"1\" class=\"dataframe\">\n",
       "  <thead>\n",
       "    <tr style=\"text-align: right;\">\n",
       "      <th></th>\n",
       "      <th>Date</th>\n",
       "      <th>Price</th>\n",
       "      <th>Open</th>\n",
       "      <th>High</th>\n",
       "      <th>Low</th>\n",
       "      <th>Vol.</th>\n",
       "      <th>Change %</th>\n",
       "    </tr>\n",
       "  </thead>\n",
       "  <tbody>\n",
       "    <tr>\n",
       "      <th>0</th>\n",
       "      <td>1672358400000000000</td>\n",
       "      <td>1826</td>\n",
       "      <td>1821</td>\n",
       "      <td>1832</td>\n",
       "      <td>1819</td>\n",
       "      <td>107500</td>\n",
       "      <td>0</td>\n",
       "    </tr>\n",
       "    <tr>\n",
       "      <th>1</th>\n",
       "      <td>1672272000000000000</td>\n",
       "      <td>1826</td>\n",
       "      <td>1812</td>\n",
       "      <td>1827</td>\n",
       "      <td>1811</td>\n",
       "      <td>105990</td>\n",
       "      <td>0</td>\n",
       "    </tr>\n",
       "    <tr>\n",
       "      <th>2</th>\n",
       "      <td>1672185600000000000</td>\n",
       "      <td>1815</td>\n",
       "      <td>1822</td>\n",
       "      <td>1822</td>\n",
       "      <td>1804</td>\n",
       "      <td>118080</td>\n",
       "      <td>0</td>\n",
       "    </tr>\n",
       "    <tr>\n",
       "      <th>3</th>\n",
       "      <td>1672099200000000000</td>\n",
       "      <td>1823</td>\n",
       "      <td>1808</td>\n",
       "      <td>1841</td>\n",
       "      <td>1808</td>\n",
       "      <td>159620</td>\n",
       "      <td>0</td>\n",
       "    </tr>\n",
       "    <tr>\n",
       "      <th>4</th>\n",
       "      <td>1672012800000000000</td>\n",
       "      <td>1809</td>\n",
       "      <td>1805</td>\n",
       "      <td>1811</td>\n",
       "      <td>1805</td>\n",
       "      <td>0</td>\n",
       "      <td>0</td>\n",
       "    </tr>\n",
       "  </tbody>\n",
       "</table>\n",
       "</div>"
      ],
      "text/plain": [
       "                  Date  Price  Open  High   Low    Vol.  Change %\n",
       "0  1672358400000000000   1826  1821  1832  1819  107500         0\n",
       "1  1672272000000000000   1826  1812  1827  1811  105990         0\n",
       "2  1672185600000000000   1815  1822  1822  1804  118080         0\n",
       "3  1672099200000000000   1823  1808  1841  1808  159620         0\n",
       "4  1672012800000000000   1809  1805  1811  1805       0         0"
      ]
     },
     "execution_count": 231,
     "metadata": {},
     "output_type": "execute_result"
    }
   ],
   "source": [
    "df.head()"
   ]
  },
  {
   "cell_type": "markdown",
   "metadata": {},
   "source": [
    "# TIỀN XỬ LÍ DỮ LIỆU"
   ]
  },
  {
   "cell_type": "code",
   "execution_count": 232,
   "metadata": {},
   "outputs": [],
   "source": [
    "#Vì chúng tôi sẽ không sử dụng Vol. và Thay đổi tính năng % để dự đoán Giá, chúng tôi sẽ bỏ hai tính năng này\n",
    "df.drop(['Vol.', 'Change %'], axis=1, inplace=True)"
   ]
  },
  {
   "cell_type": "code",
   "execution_count": 233,
   "metadata": {},
   "outputs": [],
   "source": [
    "\n",
    "# Chuyển đổi cột \"date\" sang kiểu datetime\n",
    "df['Date'] = pd.to_datetime(df['Date'], errors='coerce')  \n",
    "\n",
    "# Tách các đặc trưng số từ cột \"date\"\n",
    "df['year'] = df['Date'].dt.year\n",
    "df['month'] = df['Date'].dt.month\n",
    "df['day'] = df['Date'].dt.day\n",
    "df['day_of_week'] = df['Date'].dt.dayofweek\n",
    "df['day_of_year'] = df['Date'].dt.dayofyear\n",
    "\n",
    "# Xóa cột \"date\" gốc vì không cần thiết cho mô hình\n",
    "df = df.drop(columns=['Date'])\n",
    "\n",
    "# Đảm bảo không có giá trị null (do lỗi chuyển đổi date) và mọi cột đều là số\n",
    "df = df.dropna()\n",
    "\n",
    "# Xử lý dữ liệu cho mô hình\n",
    "X = df.drop(columns=['Price'])  # 'target_column' là cột đích bạn muốn dự đoán\n",
    "y = df['Price']\n"
   ]
  },
  {
   "cell_type": "code",
   "execution_count": 234,
   "metadata": {},
   "outputs": [],
   "source": [
    "X = df.drop(columns=['Price'])  # Loại bỏ cột 'Price' và 'Date' nếu không sử dụng cột Date\n",
    "y = df['Price']  # Cột mục tiêu"
   ]
  },
  {
   "cell_type": "code",
   "execution_count": 235,
   "metadata": {},
   "outputs": [
    {
     "data": {
      "text/html": [
       "<div>\n",
       "<style scoped>\n",
       "    .dataframe tbody tr th:only-of-type {\n",
       "        vertical-align: middle;\n",
       "    }\n",
       "\n",
       "    .dataframe tbody tr th {\n",
       "        vertical-align: top;\n",
       "    }\n",
       "\n",
       "    .dataframe thead th {\n",
       "        text-align: right;\n",
       "    }\n",
       "</style>\n",
       "<table border=\"1\" class=\"dataframe\">\n",
       "  <thead>\n",
       "    <tr style=\"text-align: right;\">\n",
       "      <th></th>\n",
       "      <th>Open</th>\n",
       "      <th>High</th>\n",
       "      <th>Low</th>\n",
       "      <th>year</th>\n",
       "      <th>month</th>\n",
       "      <th>day</th>\n",
       "      <th>day_of_week</th>\n",
       "      <th>day_of_year</th>\n",
       "    </tr>\n",
       "  </thead>\n",
       "  <tbody>\n",
       "    <tr>\n",
       "      <th>0</th>\n",
       "      <td>1821</td>\n",
       "      <td>1832</td>\n",
       "      <td>1819</td>\n",
       "      <td>2022</td>\n",
       "      <td>12</td>\n",
       "      <td>30</td>\n",
       "      <td>4</td>\n",
       "      <td>364</td>\n",
       "    </tr>\n",
       "    <tr>\n",
       "      <th>1</th>\n",
       "      <td>1812</td>\n",
       "      <td>1827</td>\n",
       "      <td>1811</td>\n",
       "      <td>2022</td>\n",
       "      <td>12</td>\n",
       "      <td>29</td>\n",
       "      <td>3</td>\n",
       "      <td>363</td>\n",
       "    </tr>\n",
       "    <tr>\n",
       "      <th>2</th>\n",
       "      <td>1822</td>\n",
       "      <td>1822</td>\n",
       "      <td>1804</td>\n",
       "      <td>2022</td>\n",
       "      <td>12</td>\n",
       "      <td>28</td>\n",
       "      <td>2</td>\n",
       "      <td>362</td>\n",
       "    </tr>\n",
       "    <tr>\n",
       "      <th>3</th>\n",
       "      <td>1808</td>\n",
       "      <td>1841</td>\n",
       "      <td>1808</td>\n",
       "      <td>2022</td>\n",
       "      <td>12</td>\n",
       "      <td>27</td>\n",
       "      <td>1</td>\n",
       "      <td>361</td>\n",
       "    </tr>\n",
       "    <tr>\n",
       "      <th>4</th>\n",
       "      <td>1805</td>\n",
       "      <td>1811</td>\n",
       "      <td>1805</td>\n",
       "      <td>2022</td>\n",
       "      <td>12</td>\n",
       "      <td>26</td>\n",
       "      <td>0</td>\n",
       "      <td>360</td>\n",
       "    </tr>\n",
       "  </tbody>\n",
       "</table>\n",
       "</div>"
      ],
      "text/plain": [
       "   Open  High   Low  year  month  day  day_of_week  day_of_year\n",
       "0  1821  1832  1819  2022     12   30            4          364\n",
       "1  1812  1827  1811  2022     12   29            3          363\n",
       "2  1822  1822  1804  2022     12   28            2          362\n",
       "3  1808  1841  1808  2022     12   27            1          361\n",
       "4  1805  1811  1805  2022     12   26            0          360"
      ]
     },
     "execution_count": 235,
     "metadata": {},
     "output_type": "execute_result"
    }
   ],
   "source": [
    "X.head()\n"
   ]
  },
  {
   "cell_type": "code",
   "execution_count": 236,
   "metadata": {},
   "outputs": [
    {
     "data": {
      "text/plain": [
       "0    1826\n",
       "1    1826\n",
       "2    1815\n",
       "3    1823\n",
       "4    1809\n",
       "Name: Price, dtype: int64"
      ]
     },
     "execution_count": 236,
     "metadata": {},
     "output_type": "execute_result"
    }
   ],
   "source": [
    "y.head()"
   ]
  },
  {
   "cell_type": "code",
   "execution_count": 237,
   "metadata": {},
   "outputs": [],
   "source": [
    "# # Giả sử bạn có một cột chứa các giá trị dạng chuỗi\n",
    "# df['Price'] = df['Price'].str.replace(',', '')  # Loại bỏ dấu phẩy\n",
    "# df['Price'] = df['Price'].astype(float)  # Chuyển đổi thành float\n",
    "\n"
   ]
  },
  {
   "cell_type": "code",
   "execution_count": 238,
   "metadata": {},
   "outputs": [],
   "source": [
    "# # Giả sử bạn có một cột chứa các giá trị dạng chuỗi\n",
    "# df['High'] = df['High'].str.replace(',', '')  # Loại bỏ dấu phẩy\n",
    "# df['High'] = df['High'].astype(float)  # Chuyển đổi thành float"
   ]
  },
  {
   "cell_type": "code",
   "execution_count": 239,
   "metadata": {},
   "outputs": [
    {
     "data": {
      "text/html": [
       "<div>\n",
       "<style scoped>\n",
       "    .dataframe tbody tr th:only-of-type {\n",
       "        vertical-align: middle;\n",
       "    }\n",
       "\n",
       "    .dataframe tbody tr th {\n",
       "        vertical-align: top;\n",
       "    }\n",
       "\n",
       "    .dataframe thead th {\n",
       "        text-align: right;\n",
       "    }\n",
       "</style>\n",
       "<table border=\"1\" class=\"dataframe\">\n",
       "  <thead>\n",
       "    <tr style=\"text-align: right;\">\n",
       "      <th></th>\n",
       "      <th>Open</th>\n",
       "      <th>High</th>\n",
       "      <th>Low</th>\n",
       "      <th>year</th>\n",
       "      <th>month</th>\n",
       "      <th>day</th>\n",
       "      <th>day_of_week</th>\n",
       "      <th>day_of_year</th>\n",
       "    </tr>\n",
       "  </thead>\n",
       "  <tbody>\n",
       "    <tr>\n",
       "      <th>0</th>\n",
       "      <td>1821</td>\n",
       "      <td>1832</td>\n",
       "      <td>1819</td>\n",
       "      <td>2022</td>\n",
       "      <td>12</td>\n",
       "      <td>30</td>\n",
       "      <td>4</td>\n",
       "      <td>364</td>\n",
       "    </tr>\n",
       "    <tr>\n",
       "      <th>1</th>\n",
       "      <td>1812</td>\n",
       "      <td>1827</td>\n",
       "      <td>1811</td>\n",
       "      <td>2022</td>\n",
       "      <td>12</td>\n",
       "      <td>29</td>\n",
       "      <td>3</td>\n",
       "      <td>363</td>\n",
       "    </tr>\n",
       "    <tr>\n",
       "      <th>2</th>\n",
       "      <td>1822</td>\n",
       "      <td>1822</td>\n",
       "      <td>1804</td>\n",
       "      <td>2022</td>\n",
       "      <td>12</td>\n",
       "      <td>28</td>\n",
       "      <td>2</td>\n",
       "      <td>362</td>\n",
       "    </tr>\n",
       "    <tr>\n",
       "      <th>3</th>\n",
       "      <td>1808</td>\n",
       "      <td>1841</td>\n",
       "      <td>1808</td>\n",
       "      <td>2022</td>\n",
       "      <td>12</td>\n",
       "      <td>27</td>\n",
       "      <td>1</td>\n",
       "      <td>361</td>\n",
       "    </tr>\n",
       "    <tr>\n",
       "      <th>4</th>\n",
       "      <td>1805</td>\n",
       "      <td>1811</td>\n",
       "      <td>1805</td>\n",
       "      <td>2022</td>\n",
       "      <td>12</td>\n",
       "      <td>26</td>\n",
       "      <td>0</td>\n",
       "      <td>360</td>\n",
       "    </tr>\n",
       "  </tbody>\n",
       "</table>\n",
       "</div>"
      ],
      "text/plain": [
       "   Open  High   Low  year  month  day  day_of_week  day_of_year\n",
       "0  1821  1832  1819  2022     12   30            4          364\n",
       "1  1812  1827  1811  2022     12   29            3          363\n",
       "2  1822  1822  1804  2022     12   28            2          362\n",
       "3  1808  1841  1808  2022     12   27            1          361\n",
       "4  1805  1811  1805  2022     12   26            0          360"
      ]
     },
     "execution_count": 239,
     "metadata": {},
     "output_type": "execute_result"
    }
   ],
   "source": [
    "X.head()\n"
   ]
  },
  {
   "cell_type": "code",
   "execution_count": 240,
   "metadata": {},
   "outputs": [],
   "source": [
    "# # Giả sử bạn có một cột chứa các giá trị dạng chuỗi\n",
    "# df['Low'] = df['Low'].str.replace(',', '')  # Loại bỏ dấu phẩy\n",
    "# df['Low'] = df['Low'].astype(float)  # Chuyển đổi thành float"
   ]
  },
  {
   "cell_type": "code",
   "execution_count": 241,
   "metadata": {},
   "outputs": [
    {
     "name": "stdout",
     "output_type": "stream",
     "text": [
      "260\n"
     ]
    }
   ],
   "source": [
    "# Lấy kích thước của DataFrame cho năm 2022\n",
    "test_size = df[df['year'] == 2022].shape[0]\n",
    "print(test_size)\n"
   ]
  },
  {
   "cell_type": "code",
   "execution_count": 242,
   "metadata": {},
   "outputs": [],
   "source": [
    "window_size = 60\n"
   ]
  },
  {
   "cell_type": "code",
   "execution_count": 243,
   "metadata": {},
   "outputs": [
    {
     "data": {
      "text/html": [
       "<style>#sk-container-id-3 {\n",
       "  /* Definition of color scheme common for light and dark mode */\n",
       "  --sklearn-color-text: black;\n",
       "  --sklearn-color-line: gray;\n",
       "  /* Definition of color scheme for unfitted estimators */\n",
       "  --sklearn-color-unfitted-level-0: #fff5e6;\n",
       "  --sklearn-color-unfitted-level-1: #f6e4d2;\n",
       "  --sklearn-color-unfitted-level-2: #ffe0b3;\n",
       "  --sklearn-color-unfitted-level-3: chocolate;\n",
       "  /* Definition of color scheme for fitted estimators */\n",
       "  --sklearn-color-fitted-level-0: #f0f8ff;\n",
       "  --sklearn-color-fitted-level-1: #d4ebff;\n",
       "  --sklearn-color-fitted-level-2: #b3dbfd;\n",
       "  --sklearn-color-fitted-level-3: cornflowerblue;\n",
       "\n",
       "  /* Specific color for light theme */\n",
       "  --sklearn-color-text-on-default-background: var(--sg-text-color, var(--theme-code-foreground, var(--jp-content-font-color1, black)));\n",
       "  --sklearn-color-background: var(--sg-background-color, var(--theme-background, var(--jp-layout-color0, white)));\n",
       "  --sklearn-color-border-box: var(--sg-text-color, var(--theme-code-foreground, var(--jp-content-font-color1, black)));\n",
       "  --sklearn-color-icon: #696969;\n",
       "\n",
       "  @media (prefers-color-scheme: dark) {\n",
       "    /* Redefinition of color scheme for dark theme */\n",
       "    --sklearn-color-text-on-default-background: var(--sg-text-color, var(--theme-code-foreground, var(--jp-content-font-color1, white)));\n",
       "    --sklearn-color-background: var(--sg-background-color, var(--theme-background, var(--jp-layout-color0, #111)));\n",
       "    --sklearn-color-border-box: var(--sg-text-color, var(--theme-code-foreground, var(--jp-content-font-color1, white)));\n",
       "    --sklearn-color-icon: #878787;\n",
       "  }\n",
       "}\n",
       "\n",
       "#sk-container-id-3 {\n",
       "  color: var(--sklearn-color-text);\n",
       "}\n",
       "\n",
       "#sk-container-id-3 pre {\n",
       "  padding: 0;\n",
       "}\n",
       "\n",
       "#sk-container-id-3 input.sk-hidden--visually {\n",
       "  border: 0;\n",
       "  clip: rect(1px 1px 1px 1px);\n",
       "  clip: rect(1px, 1px, 1px, 1px);\n",
       "  height: 1px;\n",
       "  margin: -1px;\n",
       "  overflow: hidden;\n",
       "  padding: 0;\n",
       "  position: absolute;\n",
       "  width: 1px;\n",
       "}\n",
       "\n",
       "#sk-container-id-3 div.sk-dashed-wrapped {\n",
       "  border: 1px dashed var(--sklearn-color-line);\n",
       "  margin: 0 0.4em 0.5em 0.4em;\n",
       "  box-sizing: border-box;\n",
       "  padding-bottom: 0.4em;\n",
       "  background-color: var(--sklearn-color-background);\n",
       "}\n",
       "\n",
       "#sk-container-id-3 div.sk-container {\n",
       "  /* jupyter's `normalize.less` sets `[hidden] { display: none; }`\n",
       "     but bootstrap.min.css set `[hidden] { display: none !important; }`\n",
       "     so we also need the `!important` here to be able to override the\n",
       "     default hidden behavior on the sphinx rendered scikit-learn.org.\n",
       "     See: https://github.com/scikit-learn/scikit-learn/issues/21755 */\n",
       "  display: inline-block !important;\n",
       "  position: relative;\n",
       "}\n",
       "\n",
       "#sk-container-id-3 div.sk-text-repr-fallback {\n",
       "  display: none;\n",
       "}\n",
       "\n",
       "div.sk-parallel-item,\n",
       "div.sk-serial,\n",
       "div.sk-item {\n",
       "  /* draw centered vertical line to link estimators */\n",
       "  background-image: linear-gradient(var(--sklearn-color-text-on-default-background), var(--sklearn-color-text-on-default-background));\n",
       "  background-size: 2px 100%;\n",
       "  background-repeat: no-repeat;\n",
       "  background-position: center center;\n",
       "}\n",
       "\n",
       "/* Parallel-specific style estimator block */\n",
       "\n",
       "#sk-container-id-3 div.sk-parallel-item::after {\n",
       "  content: \"\";\n",
       "  width: 100%;\n",
       "  border-bottom: 2px solid var(--sklearn-color-text-on-default-background);\n",
       "  flex-grow: 1;\n",
       "}\n",
       "\n",
       "#sk-container-id-3 div.sk-parallel {\n",
       "  display: flex;\n",
       "  align-items: stretch;\n",
       "  justify-content: center;\n",
       "  background-color: var(--sklearn-color-background);\n",
       "  position: relative;\n",
       "}\n",
       "\n",
       "#sk-container-id-3 div.sk-parallel-item {\n",
       "  display: flex;\n",
       "  flex-direction: column;\n",
       "}\n",
       "\n",
       "#sk-container-id-3 div.sk-parallel-item:first-child::after {\n",
       "  align-self: flex-end;\n",
       "  width: 50%;\n",
       "}\n",
       "\n",
       "#sk-container-id-3 div.sk-parallel-item:last-child::after {\n",
       "  align-self: flex-start;\n",
       "  width: 50%;\n",
       "}\n",
       "\n",
       "#sk-container-id-3 div.sk-parallel-item:only-child::after {\n",
       "  width: 0;\n",
       "}\n",
       "\n",
       "/* Serial-specific style estimator block */\n",
       "\n",
       "#sk-container-id-3 div.sk-serial {\n",
       "  display: flex;\n",
       "  flex-direction: column;\n",
       "  align-items: center;\n",
       "  background-color: var(--sklearn-color-background);\n",
       "  padding-right: 1em;\n",
       "  padding-left: 1em;\n",
       "}\n",
       "\n",
       "\n",
       "/* Toggleable style: style used for estimator/Pipeline/ColumnTransformer box that is\n",
       "clickable and can be expanded/collapsed.\n",
       "- Pipeline and ColumnTransformer use this feature and define the default style\n",
       "- Estimators will overwrite some part of the style using the `sk-estimator` class\n",
       "*/\n",
       "\n",
       "/* Pipeline and ColumnTransformer style (default) */\n",
       "\n",
       "#sk-container-id-3 div.sk-toggleable {\n",
       "  /* Default theme specific background. It is overwritten whether we have a\n",
       "  specific estimator or a Pipeline/ColumnTransformer */\n",
       "  background-color: var(--sklearn-color-background);\n",
       "}\n",
       "\n",
       "/* Toggleable label */\n",
       "#sk-container-id-3 label.sk-toggleable__label {\n",
       "  cursor: pointer;\n",
       "  display: block;\n",
       "  width: 100%;\n",
       "  margin-bottom: 0;\n",
       "  padding: 0.5em;\n",
       "  box-sizing: border-box;\n",
       "  text-align: center;\n",
       "}\n",
       "\n",
       "#sk-container-id-3 label.sk-toggleable__label-arrow:before {\n",
       "  /* Arrow on the left of the label */\n",
       "  content: \"▸\";\n",
       "  float: left;\n",
       "  margin-right: 0.25em;\n",
       "  color: var(--sklearn-color-icon);\n",
       "}\n",
       "\n",
       "#sk-container-id-3 label.sk-toggleable__label-arrow:hover:before {\n",
       "  color: var(--sklearn-color-text);\n",
       "}\n",
       "\n",
       "/* Toggleable content - dropdown */\n",
       "\n",
       "#sk-container-id-3 div.sk-toggleable__content {\n",
       "  max-height: 0;\n",
       "  max-width: 0;\n",
       "  overflow: hidden;\n",
       "  text-align: left;\n",
       "  /* unfitted */\n",
       "  background-color: var(--sklearn-color-unfitted-level-0);\n",
       "}\n",
       "\n",
       "#sk-container-id-3 div.sk-toggleable__content.fitted {\n",
       "  /* fitted */\n",
       "  background-color: var(--sklearn-color-fitted-level-0);\n",
       "}\n",
       "\n",
       "#sk-container-id-3 div.sk-toggleable__content pre {\n",
       "  margin: 0.2em;\n",
       "  border-radius: 0.25em;\n",
       "  color: var(--sklearn-color-text);\n",
       "  /* unfitted */\n",
       "  background-color: var(--sklearn-color-unfitted-level-0);\n",
       "}\n",
       "\n",
       "#sk-container-id-3 div.sk-toggleable__content.fitted pre {\n",
       "  /* unfitted */\n",
       "  background-color: var(--sklearn-color-fitted-level-0);\n",
       "}\n",
       "\n",
       "#sk-container-id-3 input.sk-toggleable__control:checked~div.sk-toggleable__content {\n",
       "  /* Expand drop-down */\n",
       "  max-height: 200px;\n",
       "  max-width: 100%;\n",
       "  overflow: auto;\n",
       "}\n",
       "\n",
       "#sk-container-id-3 input.sk-toggleable__control:checked~label.sk-toggleable__label-arrow:before {\n",
       "  content: \"▾\";\n",
       "}\n",
       "\n",
       "/* Pipeline/ColumnTransformer-specific style */\n",
       "\n",
       "#sk-container-id-3 div.sk-label input.sk-toggleable__control:checked~label.sk-toggleable__label {\n",
       "  color: var(--sklearn-color-text);\n",
       "  background-color: var(--sklearn-color-unfitted-level-2);\n",
       "}\n",
       "\n",
       "#sk-container-id-3 div.sk-label.fitted input.sk-toggleable__control:checked~label.sk-toggleable__label {\n",
       "  background-color: var(--sklearn-color-fitted-level-2);\n",
       "}\n",
       "\n",
       "/* Estimator-specific style */\n",
       "\n",
       "/* Colorize estimator box */\n",
       "#sk-container-id-3 div.sk-estimator input.sk-toggleable__control:checked~label.sk-toggleable__label {\n",
       "  /* unfitted */\n",
       "  background-color: var(--sklearn-color-unfitted-level-2);\n",
       "}\n",
       "\n",
       "#sk-container-id-3 div.sk-estimator.fitted input.sk-toggleable__control:checked~label.sk-toggleable__label {\n",
       "  /* fitted */\n",
       "  background-color: var(--sklearn-color-fitted-level-2);\n",
       "}\n",
       "\n",
       "#sk-container-id-3 div.sk-label label.sk-toggleable__label,\n",
       "#sk-container-id-3 div.sk-label label {\n",
       "  /* The background is the default theme color */\n",
       "  color: var(--sklearn-color-text-on-default-background);\n",
       "}\n",
       "\n",
       "/* On hover, darken the color of the background */\n",
       "#sk-container-id-3 div.sk-label:hover label.sk-toggleable__label {\n",
       "  color: var(--sklearn-color-text);\n",
       "  background-color: var(--sklearn-color-unfitted-level-2);\n",
       "}\n",
       "\n",
       "/* Label box, darken color on hover, fitted */\n",
       "#sk-container-id-3 div.sk-label.fitted:hover label.sk-toggleable__label.fitted {\n",
       "  color: var(--sklearn-color-text);\n",
       "  background-color: var(--sklearn-color-fitted-level-2);\n",
       "}\n",
       "\n",
       "/* Estimator label */\n",
       "\n",
       "#sk-container-id-3 div.sk-label label {\n",
       "  font-family: monospace;\n",
       "  font-weight: bold;\n",
       "  display: inline-block;\n",
       "  line-height: 1.2em;\n",
       "}\n",
       "\n",
       "#sk-container-id-3 div.sk-label-container {\n",
       "  text-align: center;\n",
       "}\n",
       "\n",
       "/* Estimator-specific */\n",
       "#sk-container-id-3 div.sk-estimator {\n",
       "  font-family: monospace;\n",
       "  border: 1px dotted var(--sklearn-color-border-box);\n",
       "  border-radius: 0.25em;\n",
       "  box-sizing: border-box;\n",
       "  margin-bottom: 0.5em;\n",
       "  /* unfitted */\n",
       "  background-color: var(--sklearn-color-unfitted-level-0);\n",
       "}\n",
       "\n",
       "#sk-container-id-3 div.sk-estimator.fitted {\n",
       "  /* fitted */\n",
       "  background-color: var(--sklearn-color-fitted-level-0);\n",
       "}\n",
       "\n",
       "/* on hover */\n",
       "#sk-container-id-3 div.sk-estimator:hover {\n",
       "  /* unfitted */\n",
       "  background-color: var(--sklearn-color-unfitted-level-2);\n",
       "}\n",
       "\n",
       "#sk-container-id-3 div.sk-estimator.fitted:hover {\n",
       "  /* fitted */\n",
       "  background-color: var(--sklearn-color-fitted-level-2);\n",
       "}\n",
       "\n",
       "/* Specification for estimator info (e.g. \"i\" and \"?\") */\n",
       "\n",
       "/* Common style for \"i\" and \"?\" */\n",
       "\n",
       ".sk-estimator-doc-link,\n",
       "a:link.sk-estimator-doc-link,\n",
       "a:visited.sk-estimator-doc-link {\n",
       "  float: right;\n",
       "  font-size: smaller;\n",
       "  line-height: 1em;\n",
       "  font-family: monospace;\n",
       "  background-color: var(--sklearn-color-background);\n",
       "  border-radius: 1em;\n",
       "  height: 1em;\n",
       "  width: 1em;\n",
       "  text-decoration: none !important;\n",
       "  margin-left: 1ex;\n",
       "  /* unfitted */\n",
       "  border: var(--sklearn-color-unfitted-level-1) 1pt solid;\n",
       "  color: var(--sklearn-color-unfitted-level-1);\n",
       "}\n",
       "\n",
       ".sk-estimator-doc-link.fitted,\n",
       "a:link.sk-estimator-doc-link.fitted,\n",
       "a:visited.sk-estimator-doc-link.fitted {\n",
       "  /* fitted */\n",
       "  border: var(--sklearn-color-fitted-level-1) 1pt solid;\n",
       "  color: var(--sklearn-color-fitted-level-1);\n",
       "}\n",
       "\n",
       "/* On hover */\n",
       "div.sk-estimator:hover .sk-estimator-doc-link:hover,\n",
       ".sk-estimator-doc-link:hover,\n",
       "div.sk-label-container:hover .sk-estimator-doc-link:hover,\n",
       ".sk-estimator-doc-link:hover {\n",
       "  /* unfitted */\n",
       "  background-color: var(--sklearn-color-unfitted-level-3);\n",
       "  color: var(--sklearn-color-background);\n",
       "  text-decoration: none;\n",
       "}\n",
       "\n",
       "div.sk-estimator.fitted:hover .sk-estimator-doc-link.fitted:hover,\n",
       ".sk-estimator-doc-link.fitted:hover,\n",
       "div.sk-label-container:hover .sk-estimator-doc-link.fitted:hover,\n",
       ".sk-estimator-doc-link.fitted:hover {\n",
       "  /* fitted */\n",
       "  background-color: var(--sklearn-color-fitted-level-3);\n",
       "  color: var(--sklearn-color-background);\n",
       "  text-decoration: none;\n",
       "}\n",
       "\n",
       "/* Span, style for the box shown on hovering the info icon */\n",
       ".sk-estimator-doc-link span {\n",
       "  display: none;\n",
       "  z-index: 9999;\n",
       "  position: relative;\n",
       "  font-weight: normal;\n",
       "  right: .2ex;\n",
       "  padding: .5ex;\n",
       "  margin: .5ex;\n",
       "  width: min-content;\n",
       "  min-width: 20ex;\n",
       "  max-width: 50ex;\n",
       "  color: var(--sklearn-color-text);\n",
       "  box-shadow: 2pt 2pt 4pt #999;\n",
       "  /* unfitted */\n",
       "  background: var(--sklearn-color-unfitted-level-0);\n",
       "  border: .5pt solid var(--sklearn-color-unfitted-level-3);\n",
       "}\n",
       "\n",
       ".sk-estimator-doc-link.fitted span {\n",
       "  /* fitted */\n",
       "  background: var(--sklearn-color-fitted-level-0);\n",
       "  border: var(--sklearn-color-fitted-level-3);\n",
       "}\n",
       "\n",
       ".sk-estimator-doc-link:hover span {\n",
       "  display: block;\n",
       "}\n",
       "\n",
       "/* \"?\"-specific style due to the `<a>` HTML tag */\n",
       "\n",
       "#sk-container-id-3 a.estimator_doc_link {\n",
       "  float: right;\n",
       "  font-size: 1rem;\n",
       "  line-height: 1em;\n",
       "  font-family: monospace;\n",
       "  background-color: var(--sklearn-color-background);\n",
       "  border-radius: 1rem;\n",
       "  height: 1rem;\n",
       "  width: 1rem;\n",
       "  text-decoration: none;\n",
       "  /* unfitted */\n",
       "  color: var(--sklearn-color-unfitted-level-1);\n",
       "  border: var(--sklearn-color-unfitted-level-1) 1pt solid;\n",
       "}\n",
       "\n",
       "#sk-container-id-3 a.estimator_doc_link.fitted {\n",
       "  /* fitted */\n",
       "  border: var(--sklearn-color-fitted-level-1) 1pt solid;\n",
       "  color: var(--sklearn-color-fitted-level-1);\n",
       "}\n",
       "\n",
       "/* On hover */\n",
       "#sk-container-id-3 a.estimator_doc_link:hover {\n",
       "  /* unfitted */\n",
       "  background-color: var(--sklearn-color-unfitted-level-3);\n",
       "  color: var(--sklearn-color-background);\n",
       "  text-decoration: none;\n",
       "}\n",
       "\n",
       "#sk-container-id-3 a.estimator_doc_link.fitted:hover {\n",
       "  /* fitted */\n",
       "  background-color: var(--sklearn-color-fitted-level-3);\n",
       "}\n",
       "</style><div id=\"sk-container-id-3\" class=\"sk-top-container\"><div class=\"sk-text-repr-fallback\"><pre>MinMaxScaler()</pre><b>In a Jupyter environment, please rerun this cell to show the HTML representation or trust the notebook. <br />On GitHub, the HTML representation is unable to render, please try loading this page with nbviewer.org.</b></div><div class=\"sk-container\" hidden><div class=\"sk-item\"><div class=\"sk-estimator fitted sk-toggleable\"><input class=\"sk-toggleable__control sk-hidden--visually\" id=\"sk-estimator-id-3\" type=\"checkbox\" checked><label for=\"sk-estimator-id-3\" class=\"sk-toggleable__label fitted sk-toggleable__label-arrow fitted\">&nbsp;&nbsp;MinMaxScaler<a class=\"sk-estimator-doc-link fitted\" rel=\"noreferrer\" target=\"_blank\" href=\"https://scikit-learn.org/1.5/modules/generated/sklearn.preprocessing.MinMaxScaler.html\">?<span>Documentation for MinMaxScaler</span></a><span class=\"sk-estimator-doc-link fitted\">i<span>Fitted</span></span></label><div class=\"sk-toggleable__content fitted\"><pre>MinMaxScaler()</pre></div> </div></div></div></div>"
      ],
      "text/plain": [
       "MinMaxScaler()"
      ]
     },
     "execution_count": 243,
     "metadata": {},
     "output_type": "execute_result"
    }
   ],
   "source": [
    "scaler = MinMaxScaler()\n",
    "scaler.fit(df.Price.values.reshape(-1,1))"
   ]
  },
  {
   "cell_type": "code",
   "execution_count": 244,
   "metadata": {},
   "outputs": [],
   "source": [
    "train_data = df.Price[:-test_size]\n",
    "train_data = scaler.transform(train_data.values.reshape(-1,1))"
   ]
  },
  {
   "cell_type": "code",
   "execution_count": 245,
   "metadata": {},
   "outputs": [],
   "source": [
    "X_train = []\n",
    "y_train = []\n",
    "\n",
    "for i in range(window_size, len(train_data)):\n",
    "    X_train.append(train_data[i-60:i, 0])\n",
    "    y_train.append(train_data[i, 0])"
   ]
  },
  {
   "cell_type": "code",
   "execution_count": 246,
   "metadata": {},
   "outputs": [],
   "source": [
    "test_data = df.Price[-test_size-60:]\n",
    "test_data = scaler.transform(test_data.values.reshape(-1,1))"
   ]
  },
  {
   "cell_type": "code",
   "execution_count": 247,
   "metadata": {},
   "outputs": [],
   "source": [
    "X_test = []\n",
    "y_test = []\n",
    "\n",
    "for i in range(window_size, len(test_data)):\n",
    "    X_test.append(test_data[i-60:i, 0])\n",
    "    y_test.append(test_data[i, 0])"
   ]
  },
  {
   "cell_type": "code",
   "execution_count": 248,
   "metadata": {},
   "outputs": [],
   "source": [
    "# 3. Chia dữ liệu thành tập huấn luyện và kiểm thử (70% huấn luyện, 30% kiểm thử)\n",
    "#X_train, X_test, y_train, y_test = train_test_split(X, y, test_size=0.2, random_state=42)"
   ]
  },
  {
   "cell_type": "code",
   "execution_count": 249,
   "metadata": {},
   "outputs": [],
   "source": [
    "# # Chuyển đổi y_train\n",
    "# y_train = y_train.str.replace(',', '').astype(float)\n"
   ]
  },
  {
   "cell_type": "code",
   "execution_count": 250,
   "metadata": {},
   "outputs": [
    {
     "name": "stdout",
     "output_type": "stream",
     "text": [
      "0    1821\n",
      "1    1812\n",
      "2    1822\n",
      "3    1808\n",
      "4    1805\n",
      "5    1801\n",
      "6    1823\n",
      "7    1827\n",
      "8    1796\n",
      "9    1801\n",
      "Name: Open, dtype: int64\n",
      "Price          int64\n",
      "Open           int64\n",
      "High           int64\n",
      "Low            int64\n",
      "year           int32\n",
      "month          int32\n",
      "day            int32\n",
      "day_of_week    int32\n",
      "day_of_year    int32\n",
      "dtype: object\n"
     ]
    }
   ],
   "source": [
    "# Kiểm tra các giá trị trong cột Open để xác định lỗi\n",
    "print(df['Open'].head(10))  # Kiểm tra thử 10 dòng đầu tiên để xem cấu trúc dữ liệu\n",
    "\n",
    "# Xóa dấu phẩy và chuyển đổi sang float\n",
    "df['Open'] = df['Open'].replace(',', '', regex=True)  # Xóa dấu phẩy trong chuỗi\n",
    "\n",
    "# Kiểm tra lại kiểu dữ liệu sau khi chuyển đổi\n",
    "df['Open'] = pd.to_numeric(df['Open'], errors='coerce')  # Chuyển đổi dữ liệu về dạng số\n",
    "print(df.dtypes)  # Xác nhận kiểu dữ liệu\n",
    "\n"
   ]
  },
  {
   "cell_type": "code",
   "execution_count": 251,
   "metadata": {},
   "outputs": [
    {
     "name": "stdout",
     "output_type": "stream",
     "text": [
      "Price          int64\n",
      "Open           int64\n",
      "High           int64\n",
      "Low            int64\n",
      "year           int32\n",
      "month          int32\n",
      "day            int32\n",
      "day_of_week    int32\n",
      "day_of_year    int32\n",
      "dtype: object\n"
     ]
    }
   ],
   "source": [
    "print(df.dtypes)\n"
   ]
  },
  {
   "cell_type": "markdown",
   "metadata": {},
   "source": [
    "# HỒI QUY TUYẾN TÍNH"
   ]
  },
  {
   "cell_type": "code",
   "execution_count": null,
   "metadata": {},
   "outputs": [],
   "source": []
  },
  {
   "cell_type": "code",
   "execution_count": 252,
   "metadata": {},
   "outputs": [
    {
     "name": "stdout",
     "output_type": "stream",
     "text": [
      "\n",
      "Comparison for Linear Regression model:\n",
      "     Actual  Predicted\n",
      "0  0.188305   0.180901\n",
      "1  0.174430   0.190786\n",
      "2  0.151635   0.173107\n",
      "3  0.153617   0.153286\n",
      "4  0.163528   0.154835\n"
     ]
    }
   ],
   "source": [
    "# 4. Linear Regression\n",
    "model_lr = LinearRegression()\n",
    "model_lr.fit(X_train, y_train)\n",
    "y_pred_lr = model_lr.predict(X_test)\n",
    "compare_predictions(y_test, y_pred_lr, \"Linear Regression\")"
   ]
  },
  {
   "cell_type": "code",
   "execution_count": 253,
   "metadata": {},
   "outputs": [
    {
     "name": "stdout",
     "output_type": "stream",
     "text": [
      "Linear Regression - MAE: 0.013112522568392912, RMSE: 0.0192673631507468, R2: 0.9826665618312451\n"
     ]
    }
   ],
   "source": [
    "\n",
    "# Dự đoán trên tập kiểm tra\n",
    "y_pred_lr = model_lr.predict(X_test)\n",
    "mae_linear = mean_absolute_error(y_test, y_pred_lr)\n",
    "rmse_linear = math.sqrt(mean_squared_error(y_test, y_pred_lr))\n",
    "r2_linear = r2_score(y_test, y_pred_lr)\n",
    "\n",
    "print(f\"Linear Regression - MAE: {mae_linear}, RMSE: {rmse_linear}, R2: {r2_linear}\")"
   ]
  },
  {
   "cell_type": "code",
   "execution_count": 256,
   "metadata": {},
   "outputs": [],
   "source": [
    "# plt.scatter(y_test, y_pred_lr, label=\"Linear Regression\")\n",
    "# plt.plot([y.min(), y.max()], [y.min(), y.max()], color='red', linewidth=2, label=\"Actual\")\n",
    "# plt.xlabel(\"Giá thực tế\")\n",
    "# plt.ylabel(\"Giá dự đoán\")\n",
    "# plt.legend()\n",
    "# plt.title(\"Biểu đồ giữa dự đoán và thực tế của mô hình\")\n",
    "# plt.show()\n"
   ]
  },
  {
   "cell_type": "markdown",
   "metadata": {},
   "source": [
    "# Rigde\n"
   ]
  },
  {
   "cell_type": "code",
   "execution_count": 257,
   "metadata": {},
   "outputs": [
    {
     "name": "stdout",
     "output_type": "stream",
     "text": [
      "Ridge Regression - MAE: 0.016120411816787365, RMSE: 0.022684622091273487, R2: 0.9759727953852294\n"
     ]
    }
   ],
   "source": [
    "\n",
    "# Khởi tạo và huấn luyện Ridge Regression\n",
    "ridge_reg = Ridge(alpha=1.0)\n",
    "ridge_reg.fit(X_train, y_train)\n",
    "\n",
    "y_pred_ridge = ridge_reg.predict(X_test)\n",
    "\n",
    "# Đánh giá mô hình Ridge Regression\n",
    "mae_ridge = mean_absolute_error(y_test, y_pred_ridge)\n",
    "rmse_ridge = math.sqrt(mean_squared_error(y_test, y_pred_ridge))\n",
    "r2_ridge = r2_score(y_test, y_pred_ridge)\n",
    "\n",
    "print(f\"Ridge Regression - MAE: {mae_ridge}, RMSE: {rmse_ridge}, R2: {r2_ridge}\")\n"
   ]
  },
  {
   "cell_type": "code",
   "execution_count": 258,
   "metadata": {},
   "outputs": [
    {
     "data": {
      "image/png": "[encoded data removed]",
      "text/plain": [
       "<Figure size 640x480 with 1 Axes>"
      ]
     },
     "metadata": {},
     "output_type": "display_data"
    }
   ],
   "source": [
    "plt.scatter(y_test, y_pred_ridge, label=\"Ridge Regression\", alpha=0.5)\n",
    "plt.plot([y.min(), y.max()], [y.min(), y.max()], color='red', linewidth=2, label=\"Actual\")\n",
    "plt.xlabel(\"Giá thực tế\")\n",
    "plt.ylabel(\"Giá dự đoán\")\n",
    "plt.legend()\n",
    "plt.title(\"Biểu đồ giữa dự đoán và thực tế của mô hình\")\n",
    "plt.show()"
   ]
  },
  {
   "cell_type": "markdown",
   "metadata": {},
   "source": [
    "# Neural network"
   ]
  },
  {
   "cell_type": "code",
   "execution_count": 259,
   "metadata": {},
   "outputs": [
    {
     "name": "stdout",
     "output_type": "stream",
     "text": [
      "\n",
      "Comparison for Neural Network model:\n",
      "     Actual  Predicted\n",
      "0  0.188305   0.172982\n",
      "1  0.174430   0.180129\n",
      "2  0.151635   0.175086\n",
      "3  0.153617   0.169177\n",
      "4  0.163528   0.157548\n"
     ]
    }
   ],
   "source": [
    "# 6. Neural Network (MLPRegressor)\n",
    "model_nn = MLPRegressor(hidden_layer_sizes=(100, 50),activation='relu', max_iter=500)\n",
    "model_nn.fit(X_train, y_train)\n",
    "y_pred_nn = model_nn.predict(X_test)\n",
    "compare_predictions(y_test, y_pred_nn, \"Neural Network\")"
   ]
  },
  {
   "cell_type": "code",
   "execution_count": 260,
   "metadata": {},
   "outputs": [
    {
     "name": "stdout",
     "output_type": "stream",
     "text": [
      "Neural Network - MAE: 0.026258052654038914, RMSE: 0.034252634600375115, R2: 0.9452192324755824\n"
     ]
    }
   ],
   "source": [
    "# Đánh giá mô hình Neural Network\n",
    "mae_nn = mean_absolute_error(y_test, y_pred_nn)\n",
    "rmse_nn = math.sqrt(mean_squared_error(y_test, y_pred_nn))\n",
    "r2_nn = r2_score(y_test, y_pred_nn)\n",
    "\n",
    "print(f\"Neural Network - MAE: {mae_nn}, RMSE: {rmse_nn}, R2: {r2_nn}\")"
   ]
  },
  {
   "cell_type": "code",
   "execution_count": 263,
   "metadata": {},
   "outputs": [
    {
     "name": "stdout",
     "output_type": "stream",
     "text": [
      "Neural Network - MAE: 0.026258052654038914, RMSE: 0.034252634600375115, R2: 0.9452192324755824\n"
     ]
    }
   ],
   "source": [
    "# Đánh giá mô hình Neural Network\n",
    "mae_nn = mean_absolute_error(y_test, y_pred_nn)\n",
    "rmse_nn = math.sqrt(mean_squared_error(y_test, y_pred_nn))\n",
    "r2_nn = r2_score(y_test, y_pred_nn)\n",
    "\n",
    "print(f\"Neural Network - MAE: {mae_nn}, RMSE: {rmse_nn}, R2: {r2_nn}\")"
   ]
  },
  {
   "cell_type": "code",
   "execution_count": 264,
   "metadata": {},
   "outputs": [
    {
     "data": {
      "image/png": "[encoded data removed]",
      "text/plain": [
       "<Figure size 640x480 with 1 Axes>"
      ]
     },
     "metadata": {},
     "output_type": "display_data"
    }
   ],
   "source": [
    "plt.scatter(y_test, y_pred_nn, label=\"Neural Network\", alpha=0.5)\n",
    "plt.plot([y.min(), y.max()], [y.min(), y.max()], color='red', linewidth=2, label=\"Actual\")\n",
    "plt.xlabel(\"Giá thực tế\")\n",
    "plt.ylabel(\"Giá dự đoán\")\n",
    "plt.legend()\n",
    "plt.title(\"Biểu đồ giữa dự đoán và thực tế của mô hình\")\n",
    "plt.show()"
   ]
  },
  {
   "cell_type": "code",
   "execution_count": 265,
   "metadata": {},
   "outputs": [
    {
     "name": "stdout",
     "output_type": "stream",
     "text": [
      "Linear Regression R^2 scores (K-Fold): [0.99780832 0.99749842 0.99686198 0.99671906 0.99662805]\n",
      "Mean R^2 on training set for Linear Regression: 0.9971031667270565\n",
      "Ridge Regression R^2 scores (K-Fold): [0.99664348 0.99643768 0.99552222 0.99563758 0.99577793]\n",
      "Mean R^2 on training set for Ridge Regression: 0.996003775888299\n",
      "Neural Network R^2 scores (K-Fold): [0.99294432 0.98700589 0.98770334 0.9881471  0.97676233]\n",
      "Mean R^2 on training set for Neural Network: 0.9865125970628421\n",
      "R^2 on test set for Ridge Regression: 0.9759727953852294\n",
      "R^2 on test set for Linear Regression: 0.9826665618312451\n",
      "R^2 on test set for Neural Network: 0.9351411062901991\n",
      "Ridge model: No overfitting detected\n",
      "Linear model: No overfitting detected\n",
      "Neural Network model: No overfitting detected\n"
     ]
    }
   ],
   "source": [
    "# Sử dụng 5-fold cross-validation\n",
    "kf = KFold(n_splits=5, shuffle=True, random_state=42)\n",
    "\n",
    "# K-Fold cho Linear Regression\n",
    "cv_r2_scores_linear = cross_val_score(model_lr, X_train, y_train, cv=kf, scoring='r2')\n",
    "print(f\"Linear Regression R^2 scores (K-Fold): {cv_r2_scores_linear}\")\n",
    "print(f\"Mean R^2 on training set for Linear Regression: {np.mean(cv_r2_scores_linear)}\")\n",
    "\n",
    "# K-Fold cho Ridge Regression\n",
    "cv_r2_scores_ridge = cross_val_score(ridge_reg, X_train, y_train, cv=kf, scoring='r2')\n",
    "print(f\"Ridge Regression R^2 scores (K-Fold): {cv_r2_scores_ridge}\")\n",
    "print(f\"Mean R^2 on training set for Ridge Regression: {np.mean(cv_r2_scores_ridge)}\")\n",
    "\n",
    "# K-Fold cho Neural Network (MLPRegressor)\n",
    "cv_r2_scores_nn = cross_val_score(model_nn, X_train, y_train, cv=kf, scoring='r2')\n",
    "print(f\"Neural Network R^2 scores (K-Fold): {cv_r2_scores_nn}\")\n",
    "print(f\"Mean R^2 on training set for Neural Network: {np.mean(cv_r2_scores_nn)}\")\n",
    "\n",
    "# So sánh kết quả R² trên tập kiểm tra và tập huấn luyện\n",
    "ridge_reg.fit(X_train, y_train)\n",
    "y_pred_ridge = ridge_reg.predict(X_test)\n",
    "r2_test_ridge = r2_score(y_test, y_pred_ridge)\n",
    "print(f\"R^2 on test set for Ridge Regression: {r2_test_ridge}\")\n",
    "\n",
    "model_lr.fit(X_train, y_train)\n",
    "y_pred_linear = model_lr.predict(X_test)\n",
    "r2_test_linear = r2_score(y_test, y_pred_linear)\n",
    "print(f\"R^2 on test set for Linear Regression: {r2_test_linear}\")\n",
    "\n",
    "model_nn.fit(X_train, y_train)\n",
    "y_pred_nn = model_nn.predict(X_test)\n",
    "r2_test_nn = r2_score(y_test, y_pred_nn)\n",
    "print(f\"R^2 on test set for Neural Network: {r2_test_nn}\")\n",
    "\n",
    "# Kiểm tra overfitting\n",
    "if r2_test_ridge < np.mean(cv_r2_scores_ridge) - 0.1:\n",
    "    print(\"Ridge model: Possible overfitting detected\")\n",
    "else:\n",
    "    print(\"Ridge model: No overfitting detected\")\n",
    "\n",
    "if r2_test_linear < np.mean(cv_r2_scores_linear) - 0.1:\n",
    "    print(\"Linear model: Possible overfitting detected\")\n",
    "else:\n",
    "    print(\"Linear model: No overfitting detected\")\n",
    "\n",
    "if r2_test_nn < np.mean(cv_r2_scores_nn) - 0.1:\n",
    "    print(\"Neural Network model: Possible overfitting detected\")\n",
    "else:\n",
    "    print(\"Neural Network model: No overfitting detected\")"
   ]
  },
  {
   "cell_type": "code",
   "execution_count": 266,
   "metadata": {},
   "outputs": [
    {
     "name": "stdout",
     "output_type": "stream",
     "text": [
      "\n",
      "Comparison for Stacking model:\n",
      "     Actual  Predicted\n",
      "0  0.188305   0.180896\n",
      "1  0.174430   0.189746\n",
      "2  0.151635   0.172182\n",
      "3  0.153617   0.153126\n",
      "4  0.163528   0.154645\n"
     ]
    }
   ],
   "source": [
    "# 7. Stacking Model\n",
    "estimators = [\n",
    "    ('lr', LinearRegression()),\n",
    "    ('ridge', Ridge(alpha=1.0)),\n",
    "    ('nn', MLPRegressor(hidden_layer_sizes=(100, 50), max_iter=500))\n",
    "]\n",
    "stacking_model = StackingRegressor(estimators=estimators, final_estimator=LinearRegression())\n",
    "stacking_model.fit(X_train, y_train)\n",
    "y_pred_stack = stacking_model.predict(X_test)\n",
    "compare_predictions(y_test, y_pred_stack, \"Stacking\")"
   ]
  },
  {
   "cell_type": "code",
   "execution_count": 267,
   "metadata": {},
   "outputs": [
    {
     "name": "stdout",
     "output_type": "stream",
     "text": [
      "Stacking Model - MAE: 0.013132504956467832, RMSE: 0.019254033220078907, R²: 0.9826905374631147\n"
     ]
    }
   ],
   "source": [
    "# Đánh giá mô hình Stacking\n",
    "mae_stack = mean_absolute_error(y_test, y_pred_stack)\n",
    "rmse_stack = math.sqrt(mean_squared_error(y_test, y_pred_stack))\n",
    "r2_stack = r2_score(y_test, y_pred_stack)\n",
    "\n",
    "print(f\"Stacking Model - MAE: {mae_stack}, RMSE: {rmse_stack}, R²: {r2_stack}\")\n"
   ]
  },
  {
   "cell_type": "code",
   "execution_count": 268,
   "metadata": {},
   "outputs": [
    {
     "name": "stdout",
     "output_type": "stream",
     "text": [
      "Stacking Model R² scores (K-Fold): [0.99779188 0.99748583 0.99683423 0.99669055 0.99665616]\n",
      "Mean R² on training set for Stacking Model: 0.9970917291239652\n"
     ]
    }
   ],
   "source": [
    "# K-Fold Cross-Validation cho Stacking Model\n",
    "cv_r2_scores_stack = cross_val_score(stacking_model, X_train, y_train, cv=kf, scoring='r2')\n",
    "print(f\"Stacking Model R² scores (K-Fold): {cv_r2_scores_stack}\")\n",
    "print(f\"Mean R² on training set for Stacking Model: {np.mean(cv_r2_scores_stack)}\")\n"
   ]
  },
  {
   "cell_type": "code",
   "execution_count": 269,
   "metadata": {},
   "outputs": [
    {
     "data": {
      "image/png": "[encoded data removed]",
      "text/plain": [
       "<Figure size 640x480 with 1 Axes>"
      ]
     },
     "metadata": {},
     "output_type": "display_data"
    }
   ],
   "source": [
    "plt.scatter(y_test, y_pred_stack, label=\"Stacking Model\", alpha=0.5)\n",
    "plt.plot([y.min(), y.max()], [y.min(), y.max()], color='red', linewidth=2, label=\"Actual\")\n",
    "plt.xlabel(\"Giá thực tế\")\n",
    "plt.ylabel(\"Giá dự đoán\")\n",
    "plt.legend()\n",
    "plt.title(\"Biểu đồ giữa dự đoán và thực tế của các mô hình\")\n",
    "plt.show()\n"
   ]
  },
  {
   "cell_type": "code",
   "execution_count": 25,
   "metadata": {},
   "outputs": [
    {
     "name": "stdout",
     "output_type": "stream",
     "text": [
      "\n",
      "Linear Regression Model Evaluation:\n",
      "MSE: 8916.032070651745\n",
      "MAE: 62.84603297789227\n",
      "R²: 0.9998930081441777\n",
      "\n",
      "Ridge Regression Model Evaluation:\n",
      "MSE: 8917.499040226705\n",
      "MAE: 62.8440479546778\n",
      "R²: 0.9998929905406297\n",
      "\n",
      "Neural Network Model Evaluation:\n",
      "MSE: 50922.005148799384\n",
      "MAE: 137.84623770578344\n",
      "R²: 0.9993889389596299\n",
      "\n",
      "Stacking Model Evaluation:\n",
      "MSE: 9011.100644111282\n",
      "MAE: 62.91415605197466\n",
      "R²: 0.9998918673269369\n"
     ]
    }
   ],
   "source": [
    "# 8. Đánh giá mô hình bằng các chỉ số như MSE, MAE, R²\n",
    "def evaluate_model(y_test, y_pred, model_name):\n",
    "    print(f\"\\n{model_name} Model Evaluation:\")\n",
    "    print(\"MSE:\", mean_squared_error(y_test, y_pred))\n",
    "    print(\"MAE:\", mean_absolute_error(y_test, y_pred))\n",
    "    print(\"R²:\", r2_score(y_test, y_pred))\n",
    "    \n",
    "    \n",
    "\n",
    "# Đánh giá từng mô hình\n",
    "evaluate_model(y_test, y_pred_lr, \"Linear Regression\")\n",
    "evaluate_model(y_test, y_pred_ridge, \"Ridge Regression\")\n",
    "evaluate_model(y_test, y_pred_nn, \"Neural Network\")\n",
    "evaluate_model(y_test, y_pred_stack, \"Stacking\")"
   ]
  }
 ],
 "metadata": {
  "kernelspec": {
   "display_name": "Python 3",
   "language": "python",
   "name": "python3"
  },
  "language_info": {
   "codemirror_mode": {
    "name": "ipython",
    "version": 3
   },
   "file_extension": ".py",
   "mimetype": "text/x-python",
   "name": "python",
   "nbconvert_exporter": "python",
   "pygments_lexer": "ipython3",
   "version": "3.12.6"
  }
 },
 "nbformat": 4,
 "nbformat_minor": 2
}
